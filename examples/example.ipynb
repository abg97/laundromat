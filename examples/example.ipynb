{
 "cells": [
  {
   "cell_type": "markdown",
   "metadata": {},
   "source": [
    "# How to use Laundromat"
   ]
  },
  {
   "cell_type": "markdown",
   "metadata": {},
   "source": [
    "#### Import the SpacyModel class. This is the main class that controls Laundromat"
   ]
  },
  {
   "cell_type": "code",
   "execution_count": 1,
   "metadata": {},
   "outputs": [],
   "source": [
    "from laundromat.spacy.spacy_model import SpacyModel"
   ]
  },
  {
   "cell_type": "markdown",
   "metadata": {},
   "source": [
    "#### Instantiate your model. The class takes a path to an existing model as an argument. If no argument is given the class defaults to the nb_core_news_lg SpaCy model."
   ]
  },
  {
   "cell_type": "code",
   "execution_count": 2,
   "metadata": {},
   "outputs": [],
   "source": [
    "nlp = SpacyModel() "
   ]
  },
  {
   "cell_type": "markdown",
   "metadata": {},
   "source": [
    "#### Consider the following text"
   ]
  },
  {
   "cell_type": "code",
   "execution_count": 3,
   "metadata": {},
   "outputs": [],
   "source": [
    "text = (\"Hei, mitt navn er Ola Nordmann. Jeg er 20 år og jobber 50 prosent \"\n",
    "\"stilling i Arbeidsgiver AS i Norge. Du kan nå meg på 99999999.\")"
   ]
  },
  {
   "cell_type": "markdown",
   "metadata": {},
   "source": [
    "#### There are a variety of functions that can be applied depending on your needs. Keep in mind that the predict() function returns the start and end position in the form of token index, i.e. which token(s) in the text are part of the entity"
   ]
  },
  {
   "cell_type": "code",
   "execution_count": 4,
   "metadata": {},
   "outputs": [
    {
     "name": "stdout",
     "output_type": "stream",
     "text": [
      "[['Ola Nordmann', 'PER', 5, 7], ['Arbeidsgiver AS', 'ORG', 18, 20], ['Norge', 'LOC', 21, 22]]\n"
     ]
    }
   ],
   "source": [
    "#returns [predicted entity, start position, end position, certainty]\n",
    "entities = nlp.predict(text)\n",
    "print(entities)"
   ]
  },
  {
   "cell_type": "markdown",
   "metadata": {},
   "source": [
    "#### If you want predictions prettier and no return you can use the display function. It highlights the given text with predicted entities."
   ]
  },
  {
   "cell_type": "code",
   "execution_count": 5,
   "metadata": {},
   "outputs": [
    {
     "data": {
      "text/html": [
       "<span class=\"tex2jax_ignore\"><div class=\"entities\" style=\"line-height: 2.5; direction: ltr\">Hei, mitt navn er \n",
       "<mark class=\"entity\" style=\"background: #FFA3A3; padding: 0.45em 0.6em; margin: 0 0.25em; line-height: 1; border-radius: 0.35em;\">\n",
       "    Ola Nordmann\n",
       "    <span style=\"font-size: 0.8em; font-weight: bold; line-height: 1; border-radius: 0.35em; text-transform: uppercase; vertical-align: middle; margin-left: 0.5rem\">PER</span>\n",
       "</mark>\n",
       ". Jeg er 20 år og jobber 50 prosent stilling i \n",
       "<mark class=\"entity\" style=\"background: D2AFEA; padding: 0.45em 0.6em; margin: 0 0.25em; line-height: 1; border-radius: 0.35em;\">\n",
       "    Arbeidsgiver AS\n",
       "    <span style=\"font-size: 0.8em; font-weight: bold; line-height: 1; border-radius: 0.35em; text-transform: uppercase; vertical-align: middle; margin-left: 0.5rem\">ORG</span>\n",
       "</mark>\n",
       " i \n",
       "<mark class=\"entity\" style=\"background: #ADDFEE; padding: 0.45em 0.6em; margin: 0 0.25em; line-height: 1; border-radius: 0.35em;\">\n",
       "    Norge\n",
       "    <span style=\"font-size: 0.8em; font-weight: bold; line-height: 1; border-radius: 0.35em; text-transform: uppercase; vertical-align: middle; margin-left: 0.5rem\">LOC</span>\n",
       "</mark>\n",
       ". Du kan nå meg på 99999999.</div></span>"
      ],
      "text/plain": [
       "<IPython.core.display.HTML object>"
      ]
     },
     "metadata": {},
     "output_type": "display_data"
    }
   ],
   "source": [
    "nlp.display(text)"
   ]
  },
  {
   "cell_type": "code",
   "execution_count": 6,
   "metadata": {},
   "outputs": [
    {
     "data": {
      "text/plain": [
       "{'PER': 1,\n",
       " 'FNR': 0,\n",
       " 'DTM': 0,\n",
       " 'TLF': 0,\n",
       " 'AMOUNT': 0,\n",
       " 'LOC': 1,\n",
       " 'CREDIT_CARD': 0,\n",
       " 'ORG': 1}"
      ]
     },
     "execution_count": 6,
     "metadata": {},
     "output_type": "execute_result"
    }
   ],
   "source": [
    "nlp.count(text)"
   ]
  },
  {
   "cell_type": "markdown",
   "metadata": {},
   "source": [
    "#### If you want to replace the found entities with something, you can use the replace() function. It returns the replaced text. The replacement argument determines which kind of replacement is performed, accepted inputs are entity, character, pad, and shuffle. The default is entity. You can also supply the character to be used for character or pad replacement using the replacement_char argument."
   ]
  },
  {
   "cell_type": "code",
   "execution_count": 7,
   "metadata": {},
   "outputs": [
    {
     "name": "stdout",
     "output_type": "stream",
     "text": [
      "Hei, mitt navn er <PER>. Jeg er 20 år og jobber 50 prosent stilling i <ORG> i <LOC>. Du kan nå meg på 99999999.\n"
     ]
    }
   ],
   "source": [
    "replaced_text_1 = nlp.replace(text, replacement=\"entity\", replacement_char=\":^)\")\n",
    "print(replaced_text_1)"
   ]
  },
  {
   "cell_type": "code",
   "execution_count": 8,
   "metadata": {},
   "outputs": [
    {
     "name": "stdout",
     "output_type": "stream",
     "text": [
      "Hei, mitt navn er :^):^):^):^):^):^):^):^):^):^):^):^). Jeg er 20 år og jobber 50 prosent stilling i :^):^):^):^):^):^):^):^):^):^):^):^):^):^):^) i :^):^):^):^):^). Du kan nå meg på 99999999.\n"
     ]
    }
   ],
   "source": [
    "replaced_text_2 = nlp.replace(text, replacement=\"pad\", replacement_char=\":^)\")\n",
    "print(replaced_text_2)"
   ]
  },
  {
   "cell_type": "code",
   "execution_count": 9,
   "metadata": {},
   "outputs": [
    {
     "name": "stdout",
     "output_type": "stream",
     "text": [
      "Hei, mitt navn er <PER>. Jeg er 20 år og jobber 50 prosent stilling i <ORG> i <LOC>. Du kan nå meg på 99999999.\n"
     ]
    }
   ],
   "source": [
    "replaced_text_3 = nlp.replace(text)\n",
    "print(replaced_text_3)"
   ]
  },
  {
   "cell_type": "markdown",
   "metadata": {},
   "source": [
    "#### Laundromat also contains the similarity() function which returns the cosine similarity between the unaltered text and the replaced text."
   ]
  },
  {
   "cell_type": "code",
   "execution_count": 10,
   "metadata": {},
   "outputs": [
    {
     "data": {
      "text/plain": [
       "0.8818055262549428"
      ]
     },
     "execution_count": 10,
     "metadata": {},
     "output_type": "execute_result"
    }
   ],
   "source": [
    "nlp.similarity(replaced_text_1)"
   ]
  },
  {
   "cell_type": "code",
   "execution_count": 11,
   "metadata": {},
   "outputs": [
    {
     "data": {
      "text/plain": [
       "0.789567684923907"
      ]
     },
     "execution_count": 11,
     "metadata": {},
     "output_type": "execute_result"
    }
   ],
   "source": [
    "nlp.similarity(replaced_text_2)"
   ]
  },
  {
   "cell_type": "code",
   "execution_count": 12,
   "metadata": {},
   "outputs": [
    {
     "data": {
      "text/plain": [
       "0.8818055262549428"
      ]
     },
     "execution_count": 12,
     "metadata": {},
     "output_type": "execute_result"
    }
   ],
   "source": [
    "nlp.similarity(replaced_text_3)"
   ]
  },
  {
   "cell_type": "markdown",
   "metadata": {},
   "source": [
    "#### The add_patterns() function adds the built-in regex and lookup functionality to the nlp pipeline. Observe how functionality is increased after we call on this function."
   ]
  },
  {
   "cell_type": "code",
   "execution_count": 13,
   "metadata": {},
   "outputs": [],
   "source": [
    "nlp.add_patterns()"
   ]
  },
  {
   "cell_type": "code",
   "execution_count": 14,
   "metadata": {},
   "outputs": [
    {
     "data": {
      "text/plain": [
       "[['Ola Nordmann', 'PER', 5, 7],\n",
       " ['50 prosent', 'AMOUNT', 14, 16],\n",
       " ['Arbeidsgiver AS', 'ORG', 18, 20],\n",
       " ['Norge', 'LOC', 21, 22],\n",
       " ['99999999.', 'TLF', 28, 29]]"
      ]
     },
     "execution_count": 14,
     "metadata": {},
     "output_type": "execute_result"
    }
   ],
   "source": [
    "nlp.predict(text)"
   ]
  },
  {
   "cell_type": "code",
   "execution_count": 15,
   "metadata": {},
   "outputs": [
    {
     "data": {
      "text/html": [
       "<span class=\"tex2jax_ignore\"><div class=\"entities\" style=\"line-height: 2.5; direction: ltr\">Hei, mitt navn er \n",
       "<mark class=\"entity\" style=\"background: #FFA3A3; padding: 0.45em 0.6em; margin: 0 0.25em; line-height: 1; border-radius: 0.35em;\">\n",
       "    Ola Nordmann\n",
       "    <span style=\"font-size: 0.8em; font-weight: bold; line-height: 1; border-radius: 0.35em; text-transform: uppercase; vertical-align: middle; margin-left: 0.5rem\">PER</span>\n",
       "</mark>\n",
       ". Jeg er 20 år og jobber \n",
       "<mark class=\"entity\" style=\"background: #B5EEB9; padding: 0.45em 0.6em; margin: 0 0.25em; line-height: 1; border-radius: 0.35em;\">\n",
       "    50 prosent\n",
       "    <span style=\"font-size: 0.8em; font-weight: bold; line-height: 1; border-radius: 0.35em; text-transform: uppercase; vertical-align: middle; margin-left: 0.5rem\">AMOUNT</span>\n",
       "</mark>\n",
       " stilling i \n",
       "<mark class=\"entity\" style=\"background: D2AFEA; padding: 0.45em 0.6em; margin: 0 0.25em; line-height: 1; border-radius: 0.35em;\">\n",
       "    Arbeidsgiver AS\n",
       "    <span style=\"font-size: 0.8em; font-weight: bold; line-height: 1; border-radius: 0.35em; text-transform: uppercase; vertical-align: middle; margin-left: 0.5rem\">ORG</span>\n",
       "</mark>\n",
       " i \n",
       "<mark class=\"entity\" style=\"background: #ADDFEE; padding: 0.45em 0.6em; margin: 0 0.25em; line-height: 1; border-radius: 0.35em;\">\n",
       "    Norge\n",
       "    <span style=\"font-size: 0.8em; font-weight: bold; line-height: 1; border-radius: 0.35em; text-transform: uppercase; vertical-align: middle; margin-left: 0.5rem\">LOC</span>\n",
       "</mark>\n",
       ". Du kan nå meg på \n",
       "<mark class=\"entity\" style=\"background: #D8DEAD; padding: 0.45em 0.6em; margin: 0 0.25em; line-height: 1; border-radius: 0.35em;\">\n",
       "    99999999.\n",
       "    <span style=\"font-size: 0.8em; font-weight: bold; line-height: 1; border-radius: 0.35em; text-transform: uppercase; vertical-align: middle; margin-left: 0.5rem\">TLF</span>\n",
       "</mark>\n",
       "</div></span>"
      ],
      "text/plain": [
       "<IPython.core.display.HTML object>"
      ]
     },
     "metadata": {},
     "output_type": "display_data"
    }
   ],
   "source": [
    "nlp.display(text)"
   ]
  },
  {
   "cell_type": "markdown",
   "metadata": {},
   "source": [
    "#### You can also disable the NER model if you only wish to use regex and lookup."
   ]
  },
  {
   "cell_type": "code",
   "execution_count": 16,
   "metadata": {},
   "outputs": [],
   "source": [
    "nlp.disable_ner()"
   ]
  },
  {
   "cell_type": "code",
   "execution_count": 17,
   "metadata": {},
   "outputs": [
    {
     "data": {
      "text/html": [
       "<span class=\"tex2jax_ignore\"><div class=\"entities\" style=\"line-height: 2.5; direction: ltr\">Hei, mitt navn er Ola Nordmann. Jeg er 20 år og jobber \n",
       "<mark class=\"entity\" style=\"background: #B5EEB9; padding: 0.45em 0.6em; margin: 0 0.25em; line-height: 1; border-radius: 0.35em;\">\n",
       "    50 prosent\n",
       "    <span style=\"font-size: 0.8em; font-weight: bold; line-height: 1; border-radius: 0.35em; text-transform: uppercase; vertical-align: middle; margin-left: 0.5rem\">AMOUNT</span>\n",
       "</mark>\n",
       " stilling i Arbeidsgiver AS i Norge. Du kan nå meg på \n",
       "<mark class=\"entity\" style=\"background: #D8DEAD; padding: 0.45em 0.6em; margin: 0 0.25em; line-height: 1; border-radius: 0.35em;\">\n",
       "    99999999.\n",
       "    <span style=\"font-size: 0.8em; font-weight: bold; line-height: 1; border-radius: 0.35em; text-transform: uppercase; vertical-align: middle; margin-left: 0.5rem\">TLF</span>\n",
       "</mark>\n",
       "</div></span>"
      ],
      "text/plain": [
       "<IPython.core.display.HTML object>"
      ]
     },
     "metadata": {},
     "output_type": "display_data"
    }
   ],
   "source": [
    "nlp.display(text)"
   ]
  },
  {
   "cell_type": "markdown",
   "metadata": {},
   "source": [
    "#### And enable it again"
   ]
  },
  {
   "cell_type": "code",
   "execution_count": 18,
   "metadata": {},
   "outputs": [],
   "source": [
    "nlp.enable_ner()"
   ]
  },
  {
   "cell_type": "code",
   "execution_count": 19,
   "metadata": {},
   "outputs": [
    {
     "data": {
      "text/html": [
       "<span class=\"tex2jax_ignore\"><div class=\"entities\" style=\"line-height: 2.5; direction: ltr\">Hei, mitt navn er \n",
       "<mark class=\"entity\" style=\"background: #FFA3A3; padding: 0.45em 0.6em; margin: 0 0.25em; line-height: 1; border-radius: 0.35em;\">\n",
       "    Ola Nordmann\n",
       "    <span style=\"font-size: 0.8em; font-weight: bold; line-height: 1; border-radius: 0.35em; text-transform: uppercase; vertical-align: middle; margin-left: 0.5rem\">PER</span>\n",
       "</mark>\n",
       ". Jeg er 20 år og jobber \n",
       "<mark class=\"entity\" style=\"background: #B5EEB9; padding: 0.45em 0.6em; margin: 0 0.25em; line-height: 1; border-radius: 0.35em;\">\n",
       "    50 prosent\n",
       "    <span style=\"font-size: 0.8em; font-weight: bold; line-height: 1; border-radius: 0.35em; text-transform: uppercase; vertical-align: middle; margin-left: 0.5rem\">AMOUNT</span>\n",
       "</mark>\n",
       " stilling i \n",
       "<mark class=\"entity\" style=\"background: D2AFEA; padding: 0.45em 0.6em; margin: 0 0.25em; line-height: 1; border-radius: 0.35em;\">\n",
       "    Arbeidsgiver AS\n",
       "    <span style=\"font-size: 0.8em; font-weight: bold; line-height: 1; border-radius: 0.35em; text-transform: uppercase; vertical-align: middle; margin-left: 0.5rem\">ORG</span>\n",
       "</mark>\n",
       " i \n",
       "<mark class=\"entity\" style=\"background: #ADDFEE; padding: 0.45em 0.6em; margin: 0 0.25em; line-height: 1; border-radius: 0.35em;\">\n",
       "    Norge\n",
       "    <span style=\"font-size: 0.8em; font-weight: bold; line-height: 1; border-radius: 0.35em; text-transform: uppercase; vertical-align: middle; margin-left: 0.5rem\">LOC</span>\n",
       "</mark>\n",
       ". Du kan nå meg på \n",
       "<mark class=\"entity\" style=\"background: #D8DEAD; padding: 0.45em 0.6em; margin: 0 0.25em; line-height: 1; border-radius: 0.35em;\">\n",
       "    99999999.\n",
       "    <span style=\"font-size: 0.8em; font-weight: bold; line-height: 1; border-radius: 0.35em; text-transform: uppercase; vertical-align: middle; margin-left: 0.5rem\">TLF</span>\n",
       "</mark>\n",
       "</div></span>"
      ],
      "text/plain": [
       "<IPython.core.display.HTML object>"
      ]
     },
     "metadata": {},
     "output_type": "display_data"
    }
   ],
   "source": [
    "nlp.display(text)"
   ]
  },
  {
   "cell_type": "code",
   "execution_count": 20,
   "metadata": {},
   "outputs": [],
   "source": [
    "#Laundromat comes with list lookup disabled by default, to enable it\n",
    "# use add_patterns with the parameter lookup = True\n",
    "nlp = SpacyModel()\n",
    "nlp.add_patterns(lookup=True)"
   ]
  },
  {
   "cell_type": "markdown",
   "metadata": {},
   "source": [
    "#### Now we come to a core functionality of Laundromat, which is the ability to easily add custom RegEx expressions or lookup lists by calling a function."
   ]
  },
  {
   "cell_type": "code",
   "execution_count": 21,
   "metadata": {},
   "outputs": [
    {
     "name": "stdout",
     "output_type": "stream",
     "text": [
      "FNR\n",
      "CREDIT_CARD\n",
      "TLF\n",
      "DTM\n",
      "AMOUNT\n"
     ]
    }
   ],
   "source": [
    "#First let us consider RegExes. You can print the current regex_labels by calling\n",
    "# .print_regex_labels()\n",
    "nlp.print_regex_labels()"
   ]
  },
  {
   "cell_type": "code",
   "execution_count": 22,
   "metadata": {},
   "outputs": [],
   "source": [
    "#Next let us add a regex for detecting all lower case four letter words.\n",
    "#You can do this by calling the .new_regex() function.\n",
    "nlp.new_regex(pattern=r\"([a-z]{4})\", context=\"Four letter words\", label=\"FLW\")"
   ]
  },
  {
   "cell_type": "code",
   "execution_count": 23,
   "metadata": {},
   "outputs": [
    {
     "name": "stdout",
     "output_type": "stream",
     "text": [
      "FNR\n",
      "CREDIT_CARD\n",
      "TLF\n",
      "DTM\n",
      "AMOUNT\n",
      "FLW\n"
     ]
    }
   ],
   "source": [
    "#Now we can see that it is part of the list of RegExes.\n",
    "nlp.print_regex_labels()"
   ]
  },
  {
   "cell_type": "code",
   "execution_count": 24,
   "metadata": {},
   "outputs": [
    {
     "data": {
      "text/plain": [
       "[['mitt', 'FLW', 2, 3],\n",
       " ['navn', 'FLW', 3, 4],\n",
       " ['Ola Nordmann', 'PER', 5, 7],\n",
       " ['50 prosent', 'AMOUNT', 14, 16],\n",
       " ['Arbeidsgiver AS', 'ORG', 18, 20],\n",
       " ['Norge', 'LOC', 21, 22],\n",
       " ['99999999.', 'TLF', 28, 29]]"
      ]
     },
     "execution_count": 24,
     "metadata": {},
     "output_type": "execute_result"
    }
   ],
   "source": [
    "#We see that our new regex correctly identifies the two lower case four letter words.\n",
    "nlp.predict(text)"
   ]
  },
  {
   "cell_type": "code",
   "execution_count": 25,
   "metadata": {},
   "outputs": [
    {
     "name": "stdout",
     "output_type": "stream",
     "text": [
      "Path:  land.csv Entity tag:  LOC\n",
      "Path:  etternavn_ssb.csv Entity tag:  PER\n",
      "Path:  guttefornavn_ssb.csv Entity tag:  PER\n",
      "Path:  jentefornavn_ssb.csv Entity tag:  PER\n"
     ]
    }
   ],
   "source": [
    "#Now to lookup lists. These lookup lists are stored in a list of tuples in the form of \n",
    "# (lookup list path, entity label). Only the first column of these lists will be considered.\n",
    "#To print the current lookup lists use the .print_matcher_lists() function.\n",
    "nlp.print_matcher_lists()"
   ]
  },
  {
   "cell_type": "code",
   "execution_count": 26,
   "metadata": {},
   "outputs": [],
   "source": [
    "#To add a lookup list us the .add_list() function.\n",
    "nlp.add_list((\"Some random\", \"RANDOM\"))"
   ]
  },
  {
   "cell_type": "code",
   "execution_count": 27,
   "metadata": {},
   "outputs": [
    {
     "name": "stdout",
     "output_type": "stream",
     "text": [
      "Path:  land.csv Entity tag:  LOC\n",
      "Path:  etternavn_ssb.csv Entity tag:  PER\n",
      "Path:  guttefornavn_ssb.csv Entity tag:  PER\n",
      "Path:  jentefornavn_ssb.csv Entity tag:  PER\n",
      "Path:  Some random Entity tag:  RANDOM\n"
     ]
    }
   ],
   "source": [
    "#As we can see, our new list was added\n",
    "nlp.print_matcher_lists()"
   ]
  },
  {
   "cell_type": "markdown",
   "metadata": {},
   "source": [
    "#### Now let us explore how to train a model. We shall train a new entity type, but to strengthen performance on already existing entities one just has to provide data with labels corresponding to existing entities. The following \"dataset\" was copied from SpaCy's website on training new entities. Beware that certain functionality only works for the entity types defined in the code, and so the following example does not inclu"
   ]
  },
  {
   "cell_type": "code",
   "execution_count": 28,
   "metadata": {},
   "outputs": [],
   "source": [
    "#Note that the index values of the labels are given in string index.\n",
    "#SpaCy operates with both string index and token index, i.e. which token in the text it is,\n",
    "# which can be confusing at times.\n",
    "nlp = SpacyModel()\n",
    "LABEL = \"ANIMAL\"\n",
    "\n",
    "TRAIN_DATA = [\n",
    "    (\n",
    "        \"Horses are too tall and they pretend to care about your feelings\",\n",
    "        {\"entities\": [(0, 6, LABEL)]},\n",
    "    ),\n",
    "    (\"Do they bite?\", {\"entities\": []}),\n",
    "    (\n",
    "        \"horses are too tall and they pretend to care about your feelings\",\n",
    "        {\"entities\": [(0, 6, LABEL)]},\n",
    "    ),\n",
    "    (\"horses pretend to care about your feelings\", {\"entities\": [(0, 6, LABEL)]}),\n",
    "    (\n",
    "        \"they pretend to care about your feelings, those horses\",\n",
    "        {\"entities\": [(48, 54, LABEL)]},\n",
    "    ),\n",
    "    (\"horses?\", {\"entities\": [(0, 6, LABEL)]}),\n",
    "]"
   ]
  },
  {
   "cell_type": "code",
   "execution_count": 29,
   "metadata": {},
   "outputs": [
    {
     "name": "stdout",
     "output_type": "stream",
     "text": [
      "[]\n",
      "[]\n",
      "[]\n",
      "[]\n",
      "[['those horses', 'PER', 8, 10]]\n",
      "[]\n"
     ]
    }
   ],
   "source": [
    "#We see that our model is not capable of recognising horses.\n",
    "for data in TRAIN_DATA:\n",
    "    print(nlp.predict(data[0]))"
   ]
  },
  {
   "cell_type": "markdown",
   "metadata": {},
   "source": [
    "#### Keep in mind that display() only has functionality for existing entities. It will not display new entities."
   ]
  },
  {
   "cell_type": "markdown",
   "metadata": {},
   "source": [
    "#### First let us test our performance on the data. Laundromat contains three scoring functions: SpaCy's built in F1 scorer, a confusion matrix function, and a custom scoring function. The latter two allow for a strict or lax scoring rule, and the custom scoring function prints a variety of metrics."
   ]
  },
  {
   "cell_type": "code",
   "execution_count": 30,
   "metadata": {},
   "outputs": [
    {
     "data": {
      "text/plain": [
       "{'uas': 0.0,\n",
       " 'las': 0.0,\n",
       " 'las_per_type': {'root': {'p': 0.0, 'r': 0.0, 'f': 0.0},\n",
       "  'flat:foreign': {'p': 0.0, 'r': 0.0, 'f': 0.0},\n",
       "  'nsubj': {'p': 0.0, 'r': 0.0, 'f': 0.0},\n",
       "  'flat:name': {'p': 0.0, 'r': 0.0, 'f': 0.0}},\n",
       " 'ents_p': 0.0,\n",
       " 'ents_r': 0.0,\n",
       " 'ents_f': 0.0,\n",
       " 'ents_per_type': {'ANIMAL': {'p': 0.0, 'r': 0.0, 'f': 0.0},\n",
       "  'PER': {'p': 0.0, 'r': 0.0, 'f': 0.0}},\n",
       " 'tags_acc': 0.0,\n",
       " 'token_acc': 100.0,\n",
       " 'textcat_score': 0.0,\n",
       " 'textcats_per_cat': {}}"
      ]
     },
     "execution_count": 30,
     "metadata": {},
     "output_type": "execute_result"
    }
   ],
   "source": [
    "nlp.f1_scorer(TRAIN_DATA)"
   ]
  },
  {
   "cell_type": "code",
   "execution_count": 31,
   "metadata": {},
   "outputs": [
    {
     "data": {
      "text/html": [
       "<div>\n",
       "<style scoped>\n",
       "    .dataframe tbody tr th:only-of-type {\n",
       "        vertical-align: middle;\n",
       "    }\n",
       "\n",
       "    .dataframe tbody tr th {\n",
       "        vertical-align: top;\n",
       "    }\n",
       "\n",
       "    .dataframe thead th {\n",
       "        text-align: right;\n",
       "    }\n",
       "</style>\n",
       "<table border=\"1\" class=\"dataframe\">\n",
       "  <thead>\n",
       "    <tr style=\"text-align: right;\">\n",
       "      <th></th>\n",
       "      <th>Is Positive</th>\n",
       "      <th>Is Negative</th>\n",
       "    </tr>\n",
       "  </thead>\n",
       "  <tbody>\n",
       "    <tr>\n",
       "      <th>Predicted Positive</th>\n",
       "      <td>0</td>\n",
       "      <td>1</td>\n",
       "    </tr>\n",
       "    <tr>\n",
       "      <th>Predicted Negative</th>\n",
       "      <td>5</td>\n",
       "      <td>41</td>\n",
       "    </tr>\n",
       "  </tbody>\n",
       "</table>\n",
       "</div>"
      ],
      "text/plain": [
       "                    Is Positive  Is Negative\n",
       "Predicted Positive            0            1\n",
       "Predicted Negative            5           41"
      ]
     },
     "execution_count": 31,
     "metadata": {},
     "output_type": "execute_result"
    }
   ],
   "source": [
    "nlp.confusion_matrix(TRAIN_DATA)"
   ]
  },
  {
   "cell_type": "code",
   "execution_count": 32,
   "metadata": {},
   "outputs": [
    {
     "name": "stdout",
     "output_type": "stream",
     "text": [
      "Accuracy is:  0.8723404255319149\n",
      "Balanced accuracy is:  0.4880952380952381\n",
      "Precision is:  0.0\n",
      "Recall is:  0.0\n",
      "F1 score is:  0.0\n"
     ]
    }
   ],
   "source": [
    "nlp.print_scores(TRAIN_DATA)"
   ]
  },
  {
   "cell_type": "markdown",
   "metadata": {},
   "source": [
    "#### Now let us train on the available data. The train() function accepts both number of training iterations and output directory as arguments, but these default to 30 and None (which means the model is not saved) respectively."
   ]
  },
  {
   "cell_type": "code",
   "execution_count": 33,
   "metadata": {},
   "outputs": [
    {
     "name": "stdout",
     "output_type": "stream",
     "text": [
      "Losses {'ner': 43.7634323188446}\n",
      "Losses {'ner': 37.36912397686882}\n",
      "Losses {'ner': 29.574495344797867}\n",
      "Losses {'ner': 35.95390339749133}\n",
      "Losses {'ner': 25.025167298056203}\n",
      "Losses {'ner': 36.8087579193525}\n",
      "Losses {'ner': 23.677375968293404}\n",
      "Losses {'ner': 29.86252936234814}\n",
      "Losses {'ner': 32.49622757605357}\n",
      "Losses {'ner': 28.53937743109418}\n",
      "Losses {'ner': 29.734447697010182}\n",
      "Losses {'ner': 29.19986493446595}\n",
      "Losses {'ner': 28.927347520426615}\n",
      "Losses {'ner': 31.028226506207602}\n",
      "Losses {'ner': 27.96554018043389}\n",
      "Losses {'ner': 29.021093687762914}\n",
      "Losses {'ner': 19.464889489364396}\n",
      "Losses {'ner': 24.685661644959964}\n",
      "Losses {'ner': 28.09824222815655}\n",
      "Losses {'ner': 30.978461074040162}\n",
      "Losses {'ner': 21.962706289265558}\n",
      "Losses {'ner': 25.314817140913256}\n",
      "Losses {'ner': 27.289513138375696}\n",
      "Losses {'ner': 31.48207950840373}\n",
      "Losses {'ner': 19.897172549979036}\n",
      "Losses {'ner': 28.3832769321466}\n",
      "Losses {'ner': 26.69563136419244}\n",
      "Losses {'ner': 29.50139485899109}\n",
      "Losses {'ner': 24.454738525967507}\n",
      "Losses {'ner': 25.670938977555352}\n",
      "Losses {'ner': 28.794484565577875}\n",
      "Losses {'ner': 24.152634883954008}\n",
      "Losses {'ner': 19.609780601877674}\n",
      "Losses {'ner': 28.25194345925496}\n",
      "Losses {'ner': 34.8332293454259}\n"
     ]
    }
   ],
   "source": [
    "nlp.train(TRAIN_DATA, labels=[LABEL], n_iter=35)"
   ]
  },
  {
   "cell_type": "code",
   "execution_count": 34,
   "metadata": {},
   "outputs": [
    {
     "data": {
      "text/plain": [
       "{'uas': 0.0,\n",
       " 'las': 0.0,\n",
       " 'las_per_type': {'root': {'p': 0.0, 'r': 0.0, 'f': 0.0},\n",
       "  'flat:foreign': {'p': 0.0, 'r': 0.0, 'f': 0.0},\n",
       "  'flat:name': {'p': 0.0, 'r': 0.0, 'f': 0.0},\n",
       "  'nsubj': {'p': 0.0, 'r': 0.0, 'f': 0.0}},\n",
       " 'ents_p': 100.0,\n",
       " 'ents_r': 100.0,\n",
       " 'ents_f': 100.0,\n",
       " 'ents_per_type': {'ANIMAL': {'p': 100.0, 'r': 100.0, 'f': 100.0}},\n",
       " 'tags_acc': 0.0,\n",
       " 'token_acc': 100.0,\n",
       " 'textcat_score': 0.0,\n",
       " 'textcats_per_cat': {}}"
      ]
     },
     "execution_count": 34,
     "metadata": {},
     "output_type": "execute_result"
    }
   ],
   "source": [
    "nlp.f1_scorer(TRAIN_DATA)"
   ]
  },
  {
   "cell_type": "code",
   "execution_count": 35,
   "metadata": {},
   "outputs": [
    {
     "data": {
      "text/html": [
       "<div>\n",
       "<style scoped>\n",
       "    .dataframe tbody tr th:only-of-type {\n",
       "        vertical-align: middle;\n",
       "    }\n",
       "\n",
       "    .dataframe tbody tr th {\n",
       "        vertical-align: top;\n",
       "    }\n",
       "\n",
       "    .dataframe thead th {\n",
       "        text-align: right;\n",
       "    }\n",
       "</style>\n",
       "<table border=\"1\" class=\"dataframe\">\n",
       "  <thead>\n",
       "    <tr style=\"text-align: right;\">\n",
       "      <th></th>\n",
       "      <th>Is Positive</th>\n",
       "      <th>Is Negative</th>\n",
       "    </tr>\n",
       "  </thead>\n",
       "  <tbody>\n",
       "    <tr>\n",
       "      <th>Predicted Positive</th>\n",
       "      <td>5</td>\n",
       "      <td>0</td>\n",
       "    </tr>\n",
       "    <tr>\n",
       "      <th>Predicted Negative</th>\n",
       "      <td>0</td>\n",
       "      <td>42</td>\n",
       "    </tr>\n",
       "  </tbody>\n",
       "</table>\n",
       "</div>"
      ],
      "text/plain": [
       "                    Is Positive  Is Negative\n",
       "Predicted Positive            5            0\n",
       "Predicted Negative            0           42"
      ]
     },
     "execution_count": 35,
     "metadata": {},
     "output_type": "execute_result"
    }
   ],
   "source": [
    "nlp.confusion_matrix(TRAIN_DATA)"
   ]
  },
  {
   "cell_type": "code",
   "execution_count": 36,
   "metadata": {},
   "outputs": [
    {
     "name": "stdout",
     "output_type": "stream",
     "text": [
      "Accuracy is:  1.0\n",
      "Balanced accuracy is:  1.0\n",
      "Precision is:  1.0\n",
      "Recall is:  1.0\n",
      "F1 score is:  1.0\n"
     ]
    }
   ],
   "source": [
    "nlp.print_scores(TRAIN_DATA)"
   ]
  },
  {
   "cell_type": "code",
   "execution_count": 37,
   "metadata": {},
   "outputs": [
    {
     "name": "stdout",
     "output_type": "stream",
     "text": [
      "[['horses', 'ANIMAL', 9, 10]]\n",
      "[['horses', 'ANIMAL', 0, 1]]\n",
      "[]\n",
      "[['Horses', 'ANIMAL', 0, 1]]\n",
      "[['horses', 'ANIMAL', 0, 1]]\n",
      "[['horses', 'ANIMAL', 0, 1]]\n"
     ]
    }
   ],
   "source": [
    "for data in TRAIN_DATA:\n",
    "    print(nlp.predict(data[0]))"
   ]
  },
  {
   "cell_type": "markdown",
   "metadata": {},
   "source": [
    "#### We observe a strong improvement in  performance. Let us now test it on a new sentence."
   ]
  },
  {
   "cell_type": "code",
   "execution_count": 52,
   "metadata": {},
   "outputs": [],
   "source": [
    "horse_text = \"Horse\""
   ]
  },
  {
   "cell_type": "code",
   "execution_count": 53,
   "metadata": {},
   "outputs": [
    {
     "data": {
      "text/plain": [
       "[['Horse', 'ANIMAL', 0, 1]]"
      ]
     },
     "execution_count": 53,
     "metadata": {},
     "output_type": "execute_result"
    }
   ],
   "source": [
    "nlp.predict(horse_text)"
   ]
  },
  {
   "cell_type": "code",
   "execution_count": null,
   "metadata": {},
   "outputs": [],
   "source": []
  }
 ],
 "metadata": {
  "kernelspec": {
   "display_name": "Python 3",
   "language": "python",
   "name": "python3"
  },
  "language_info": {
   "codemirror_mode": {
    "name": "ipython",
    "version": 3
   },
   "file_extension": ".py",
   "mimetype": "text/x-python",
   "name": "python",
   "nbconvert_exporter": "python",
   "pygments_lexer": "ipython3",
   "version": "3.7.7"
  }
 },
 "nbformat": 4,
 "nbformat_minor": 4
}
