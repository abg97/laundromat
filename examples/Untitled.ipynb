{
 "cells": [
  {
   "cell_type": "code",
   "execution_count": 1,
   "metadata": {},
   "outputs": [],
   "source": [
    "from laundromat.spacy.spacy_model import SpacyModel\n",
    "import pandas as pd"
   ]
  },
  {
   "cell_type": "code",
   "execution_count": 2,
   "metadata": {},
   "outputs": [],
   "source": [
    "nlp = SpacyModel()"
   ]
  },
  {
   "cell_type": "code",
   "execution_count": 3,
   "metadata": {},
   "outputs": [],
   "source": [
    "test = \"Hello my name is Marius Dioli 94867658 50 prosent\""
   ]
  },
  {
   "cell_type": "code",
   "execution_count": 4,
   "metadata": {},
   "outputs": [
    {
     "data": {
      "text/plain": [
       "[['Marius Dioli', 'PER', 4, 6]]"
      ]
     },
     "execution_count": 4,
     "metadata": {},
     "output_type": "execute_result"
    }
   ],
   "source": [
    "nlp.predict(test)"
   ]
  },
  {
   "cell_type": "code",
   "execution_count": 5,
   "metadata": {},
   "outputs": [
    {
     "name": "stdout",
     "output_type": "stream",
     "text": [
      "[('land.csv', 'LOC'), ('etternavn_ssb.csv', 'PER'), ('guttefornavn_ssb.csv', 'PER'), ('jentefornavn_ssb.csv', 'PER')]\n"
     ]
    }
   ],
   "source": [
    "nlp.add_patterns()"
   ]
  },
  {
   "cell_type": "code",
   "execution_count": 6,
   "metadata": {},
   "outputs": [],
   "source": [
    "nlp2 = SpacyModel()"
   ]
  },
  {
   "cell_type": "code",
   "execution_count": 7,
   "metadata": {},
   "outputs": [],
   "source": [
    "nlp2.new_regex(r\"([a-z]{4})\", \"New tlf\", \"TLF_N\")"
   ]
  },
  {
   "cell_type": "code",
   "execution_count": 8,
   "metadata": {},
   "outputs": [
    {
     "name": "stdout",
     "output_type": "stream",
     "text": [
      "FNR\n",
      "CREDIT_CARD\n",
      "TLF\n",
      "DTM\n",
      "AMOUNT\n",
      "TLF_N\n"
     ]
    }
   ],
   "source": [
    "nlp2.print_regex_labels()"
   ]
  },
  {
   "cell_type": "code",
   "execution_count": 9,
   "metadata": {},
   "outputs": [
    {
     "name": "stdout",
     "output_type": "stream",
     "text": [
      "[('land.csv', 'LOC'), ('etternavn_ssb.csv', 'PER'), ('guttefornavn_ssb.csv', 'PER'), ('jentefornavn_ssb.csv', 'PER')]\n"
     ]
    }
   ],
   "source": [
    "nlp2.add_patterns()"
   ]
  },
  {
   "cell_type": "code",
   "execution_count": 15,
   "metadata": {},
   "outputs": [],
   "source": [
    "nlp3.new_regex(r\"([a-z]{4})\", \"New tlf\", \"TLF_N\")"
   ]
  },
  {
   "cell_type": "code",
   "execution_count": 16,
   "metadata": {},
   "outputs": [
    {
     "name": "stdout",
     "output_type": "stream",
     "text": [
      "FNR\n",
      "CREDIT_CARD\n",
      "TLF\n",
      "DTM\n",
      "AMOUNT\n",
      "TLF_N\n"
     ]
    }
   ],
   "source": [
    "nlp3.print_regex_labels()"
   ]
  },
  {
   "cell_type": "code",
   "execution_count": 11,
   "metadata": {},
   "outputs": [],
   "source": [
    "nlp3 = SpacyModel()"
   ]
  },
  {
   "cell_type": "code",
   "execution_count": 12,
   "metadata": {},
   "outputs": [],
   "source": [
    "nlp3.add_list((\"/Users/mjdioli/Downloads/test_csv.csv\", \"ORG\"))"
   ]
  },
  {
   "cell_type": "code",
   "execution_count": 13,
   "metadata": {},
   "outputs": [
    {
     "name": "stdout",
     "output_type": "stream",
     "text": [
      "[('land.csv', 'LOC'), ('etternavn_ssb.csv', 'PER'), ('guttefornavn_ssb.csv', 'PER'), ('jentefornavn_ssb.csv', 'PER'), ('/Users/mjdioli/Downloads/test_csv.csv', 'ORG')]\n"
     ]
    }
   ],
   "source": [
    "nlp3.add_patterns()"
   ]
  },
  {
   "cell_type": "code",
   "execution_count": 14,
   "metadata": {},
   "outputs": [
    {
     "name": "stdout",
     "output_type": "stream",
     "text": [
      "[('land.csv', 'LOC'), ('etternavn_ssb.csv', 'PER'), ('guttefornavn_ssb.csv', 'PER'), ('jentefornavn_ssb.csv', 'PER'), ('/Users/mjdioli/Downloads/test_csv.csv', 'ORG')]\n"
     ]
    }
   ],
   "source": [
    "nlp4 = SpacyModel()\n",
    "nlp4.add_list((\"/Users/mjdioli/Downloads/test_csv.csv\", \"ORG\"))\n",
    "nlp4.add_patterns()"
   ]
  },
  {
   "cell_type": "code",
   "execution_count": null,
   "metadata": {},
   "outputs": [],
   "source": []
  }
 ],
 "metadata": {
  "kernelspec": {
   "display_name": "Python 3",
   "language": "python",
   "name": "python3"
  },
  "language_info": {
   "codemirror_mode": {
    "name": "ipython",
    "version": 3
   },
   "file_extension": ".py",
   "mimetype": "text/x-python",
   "name": "python",
   "nbconvert_exporter": "python",
   "pygments_lexer": "ipython3",
   "version": "3.7.7"
  }
 },
 "nbformat": 4,
 "nbformat_minor": 4
}
