{
 "cells": [
  {
   "cell_type": "code",
   "execution_count": 13,
   "metadata": {},
   "outputs": [],
   "source": [
    "import spacy\n",
    "import json\n",
    "\n",
    "\n",
    "from spacy.tokens import Doc\n",
    "from spacy.pipeline import EntityRuler\n",
    "from spacy import displacy\n",
    "from pprint import pprint\n",
    "\n",
    "from nav_pii_anon.regex_parser import RegexEngines"
   ]
  },
  {
   "cell_type": "code",
   "execution_count": 11,
   "metadata": {},
   "outputs": [],
   "source": [
    "# Ikke ekte personopplysninger\n",
    "\n",
    "text = \"\"\"Hei, mitt navn er Peter Newfield (personnummer: 211132 32983)\n",
    "og jeg kommer fra Bergen. Jeg har prøv å komme i kontakt med NAV en stund nå,\n",
    "men har ikke fått svar på mine henvendeler angående saken min (saksnummer: 174920457).\n",
    "Hvis jeg ikke får dagpengene mine snart, kommer jeg til å bli kastet ut av Sporveisgata 10, 0354 Oslo.\n",
    "Dere kan kontakte meg på 99233190 eller på peternewfield@gmail.com.\"\"\""
   ]
  },
  {
   "cell_type": "code",
   "execution_count": 3,
   "metadata": {},
   "outputs": [],
   "source": [
    "def get_patterns():\n",
    "    patterns  = []\n",
    "    regex_engines = [engine.value for engine in RegexEngines]\n",
    "    \n",
    "    for engine in regex_engines:\n",
    "        patterns.append({\"label\": engine.label, \"pattern\": [{\"TEXT\": {\"REGEX\":  engine.regex_pattern}}]})\n",
    "    \n",
    "    \n",
    "    return patterns"
   ]
  },
  {
   "cell_type": "code",
   "execution_count": 4,
   "metadata": {},
   "outputs": [],
   "source": [
    "def save_patterns(file_name: str, patterns:list):\n",
    "    with open(file_name, 'w') as file:\n",
    "        json.dump(patterns, file)"
   ]
  },
  {
   "cell_type": "code",
   "execution_count": 5,
   "metadata": {},
   "outputs": [],
   "source": [
    "def add_regex_pipe(nlp, patterns: list, name: str):\n",
    "    regex_pipe = EntityRuler(nlp)\n",
    "    regex_pipe.add_patterns(patterns)\n",
    "    nlp.add_pipe(regex_pipe, name )"
   ]
  },
  {
   "cell_type": "code",
   "execution_count": 6,
   "metadata": {},
   "outputs": [],
   "source": [
    "def get_ents(doc: Doc):\n",
    "    ents = []\n",
    "    for ent in doc.ents:\n",
    "        ents.append({\n",
    "            'text': ent.text,\n",
    "            'label': ent.label_,\n",
    "            'start': ent.start_char,\n",
    "            'end': ent.end_char\n",
    "        })\n",
    "    \n",
    "    return ents"
   ]
  },
  {
   "cell_type": "code",
   "execution_count": 7,
   "metadata": {},
   "outputs": [],
   "source": [
    "def parse_text(text: str, nlp = None, pipe_name: str = None, vizualize: bool = False):\n",
    "    \n",
    "    if not nlp:\n",
    "        nlp = spacy.load(\"nb_core_news_lg\")\n",
    "    \n",
    "    if not pipe_name:\n",
    "        pipe_name = \"regex\"\n",
    "    \n",
    "        \n",
    "    patterns = get_patterns()\n",
    "    add_regex_pipe(nlp, patterns, pipe_name)\n",
    "    \n",
    "    doc = nlp(text)\n",
    "    \n",
    "    displacy.render(doc, style=\"ent\")\n",
    "    \n",
    "    return get_ents(doc)"
   ]
  },
  {
   "cell_type": "code",
   "execution_count": 15,
   "metadata": {},
   "outputs": [],
   "source": [
    "nlp = spacy.load(\"nb_core_news_lg\")"
   ]
  },
  {
   "cell_type": "code",
   "execution_count": 16,
   "metadata": {},
   "outputs": [
    {
     "data": {
      "text/plain": [
       "spacy.lang.nb.Norwegian"
      ]
     },
     "execution_count": 16,
     "metadata": {},
     "output_type": "execute_result"
    }
   ],
   "source": [
    "type(nlp)"
   ]
  },
  {
   "cell_type": "code",
   "execution_count": 12,
   "metadata": {},
   "outputs": [
    {
     "data": {
      "text/html": [
       "<span class=\"tex2jax_ignore\"><div class=\"entities\" style=\"line-height: 2.5; direction: ltr\">Hei, mitt navn er \n",
       "<mark class=\"entity\" style=\"background: #ddd; padding: 0.45em 0.6em; margin: 0 0.25em; line-height: 1; border-radius: 0.35em;\">\n",
       "    Peter Newfield\n",
       "    <span style=\"font-size: 0.8em; font-weight: bold; line-height: 1; border-radius: 0.35em; text-transform: uppercase; vertical-align: middle; margin-left: 0.5rem\">PER</span>\n",
       "</mark>\n",
       " (personnummer: 211132 32983)</br>og jeg kommer fra \n",
       "<mark class=\"entity\" style=\"background: #ff9561; padding: 0.45em 0.6em; margin: 0 0.25em; line-height: 1; border-radius: 0.35em;\">\n",
       "    Bergen\n",
       "    <span style=\"font-size: 0.8em; font-weight: bold; line-height: 1; border-radius: 0.35em; text-transform: uppercase; vertical-align: middle; margin-left: 0.5rem\">LOC</span>\n",
       "</mark>\n",
       ". Jeg har prøv å komme i kontakt med \n",
       "<mark class=\"entity\" style=\"background: #7aecec; padding: 0.45em 0.6em; margin: 0 0.25em; line-height: 1; border-radius: 0.35em;\">\n",
       "    NAV\n",
       "    <span style=\"font-size: 0.8em; font-weight: bold; line-height: 1; border-radius: 0.35em; text-transform: uppercase; vertical-align: middle; margin-left: 0.5rem\">ORG</span>\n",
       "</mark>\n",
       " en stund nå,</br>men har ikke fått svar på mine henvendeler angående saken min (saksnummer: 174920457).</br>Hvis jeg ikke får dagpengene mine snart, kommer jeg til å bli kastet ut av \n",
       "<mark class=\"entity\" style=\"background: #ff9561; padding: 0.45em 0.6em; margin: 0 0.25em; line-height: 1; border-radius: 0.35em;\">\n",
       "    Sporveisgata\n",
       "    <span style=\"font-size: 0.8em; font-weight: bold; line-height: 1; border-radius: 0.35em; text-transform: uppercase; vertical-align: middle; margin-left: 0.5rem\">LOC</span>\n",
       "</mark>\n",
       " 10, 0354 \n",
       "<mark class=\"entity\" style=\"background: #ff9561; padding: 0.45em 0.6em; margin: 0 0.25em; line-height: 1; border-radius: 0.35em;\">\n",
       "    Oslo\n",
       "    <span style=\"font-size: 0.8em; font-weight: bold; line-height: 1; border-radius: 0.35em; text-transform: uppercase; vertical-align: middle; margin-left: 0.5rem\">LOC</span>\n",
       "</mark>\n",
       ".</br>Dere kan kontakte meg på 99233190 eller på \n",
       "<mark class=\"entity\" style=\"background: #ddd; padding: 0.45em 0.6em; margin: 0 0.25em; line-height: 1; border-radius: 0.35em;\">\n",
       "    peternewfield@gmail.com\n",
       "    <span style=\"font-size: 0.8em; font-weight: bold; line-height: 1; border-radius: 0.35em; text-transform: uppercase; vertical-align: middle; margin-left: 0.5rem\">MISC</span>\n",
       "</mark>\n",
       ".</div></span>"
      ],
      "text/plain": [
       "<IPython.core.display.HTML object>"
      ]
     },
     "metadata": {},
     "output_type": "display_data"
    },
    {
     "data": {
      "text/plain": [
       "[{'text': 'Peter Newfield', 'label': 'PER', 'start': 18, 'end': 32},\n",
       " {'text': 'Bergen', 'label': 'LOC', 'start': 80, 'end': 86},\n",
       " {'text': 'NAV', 'label': 'ORG', 'start': 123, 'end': 126},\n",
       " {'text': 'Sporveisgata', 'label': 'LOC', 'start': 302, 'end': 314},\n",
       " {'text': 'Oslo', 'label': 'LOC', 'start': 324, 'end': 328},\n",
       " {'text': 'peternewfield@gmail.com',\n",
       "  'label': 'MISC',\n",
       "  'start': 373,\n",
       "  'end': 396}]"
      ]
     },
     "execution_count": 12,
     "metadata": {},
     "output_type": "execute_result"
    }
   ],
   "source": [
    "parse_text(text)"
   ]
  }
 ],
 "metadata": {
  "kernelspec": {
   "display_name": "Python 3",
   "language": "python",
   "name": "python3"
  },
  "language_info": {
   "codemirror_mode": {
    "name": "ipython",
    "version": 3
   },
   "file_extension": ".py",
   "mimetype": "text/x-python",
   "name": "python",
   "nbconvert_exporter": "python",
   "pygments_lexer": "ipython3",
   "version": "3.7.7"
  }
 },
 "nbformat": 4,
 "nbformat_minor": 2
}
