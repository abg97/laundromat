{
 "cells": [
  {
   "cell_type": "code",
   "execution_count": 47,
   "metadata": {},
   "outputs": [],
   "source": [
    "import pandas as pd\n",
    "import random\n",
    "import numpy as np\n",
    "from nav_pii_anon.spacy.spacy_model import SpacyModel\n",
    "import spacy"
   ]
  },
  {
   "cell_type": "code",
   "execution_count": 60,
   "metadata": {},
   "outputs": [],
   "source": [
    "path_girlname = \"/Users/mjdioli/Downloads/jentefornavn_ssb.csv\"\n",
    "path_boyname = \"/Users/mjdioli/Downloads/guttefornavn_ssb.csv\"\n",
    "path_surname = \"/Users/mjdioli/Downloads/etternavn_ssb.csv\"\n",
    "boyname = pd.read_csv(path_boyname,engine='python', sep=\";\")\n",
    "boyname.drop(boyname.columns[1:], axis=1, inplace=True)\n",
    "girlname = pd.read_csv(path_girlname,engine='python', sep=\";\")\n",
    "girlname.drop(girlname.columns[1:], axis=1, inplace=True)\n",
    "surname = pd.read_csv(path_surname, engine=\"python\", sep=\";\")\n",
    "first_name = pd.concat([boyname, girlname], ignore_index=True)\n",
    "first_name = first_name.dropna()\n",
    "surname = surname.dropna()"
   ]
  },
  {
   "cell_type": "code",
   "execution_count": 61,
   "metadata": {},
   "outputs": [],
   "source": [
    "nlp = SpacyModel()"
   ]
  },
  {
   "cell_type": "code",
   "execution_count": 67,
   "metadata": {},
   "outputs": [
    {
     "name": "stdout",
     "output_type": "stream",
     "text": [
      "Avg score =  0.892\n",
      "128\n"
     ]
    }
   ],
   "source": [
    "n = 1000\n",
    "points = 0\n",
    "halves = 0\n",
    "for i in range(n):\n",
    "    random.seed(i)\n",
    "    #print(random.randint(0,len(first_name)))\n",
    "    fornavn = first_name[\"fornavn\"].iloc[random.randint(0,len(first_name)-1)]\n",
    "    etternavn = surname[\"etternavn\"].iloc[random.randint(0,len(surname))]\n",
    "    name = fornavn + \" \" + etternavn\n",
    "    #print(name)\n",
    "    #nlp.predict(name)\n",
    "    prediction = nlp.replace(name)\n",
    "    if(prediction==name):\n",
    "        continue\n",
    "    elif(prediction==\"<PER>\"):\n",
    "        points+=1.0\n",
    "    else:\n",
    "        #print(\"Halvt poeng\")\n",
    "        halves +=1\n",
    "        points += 0.5\n",
    "\n",
    "print(\"Avg score = \", points/n)\n",
    "print(halves)\n",
    "    \n",
    "    "
   ]
  },
  {
   "cell_type": "code",
   "execution_count": null,
   "metadata": {},
   "outputs": [],
   "source": []
  },
  {
   "cell_type": "code",
   "execution_count": null,
   "metadata": {},
   "outputs": [],
   "source": []
  }
 ],
 "metadata": {
  "kernelspec": {
   "display_name": "Python 3",
   "language": "python",
   "name": "python3"
  },
  "language_info": {
   "codemirror_mode": {
    "name": "ipython",
    "version": 3
   },
   "file_extension": ".py",
   "mimetype": "text/x-python",
   "name": "python",
   "nbconvert_exporter": "python",
   "pygments_lexer": "ipython3",
   "version": "3.7.7"
  }
 },
 "nbformat": 4,
 "nbformat_minor": 4
}
