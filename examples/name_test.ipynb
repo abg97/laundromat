{
 "cells": [
  {
   "cell_type": "code",
   "execution_count": 1,
   "metadata": {},
   "outputs": [],
   "source": [
    "import pandas as pd\n",
    "import random\n",
    "import numpy as np\n",
    "from nav_pii_anon.spacy.spacy_model import SpacyModel\n",
    "import spacy"
   ]
  },
  {
   "cell_type": "code",
   "execution_count": 2,
   "metadata": {},
   "outputs": [],
   "source": [
    "path_girlname = \"/Users/mjdioli/Downloads/jentefornavn_ssb.csv\"\n",
    "path_boyname = \"/Users/mjdioli/Downloads/guttefornavn_ssb.csv\"\n",
    "path_surname = \"/Users/mjdioli/Downloads/etternavn_ssb.csv\"\n",
    "boyname = pd.read_csv(path_boyname,engine='python', sep=\";\")\n",
    "boyname.drop(boyname.columns[1:], axis=1, inplace=True)\n",
    "girlname = pd.read_csv(path_girlname,engine='python', sep=\";\")\n",
    "girlname.drop(girlname.columns[1:], axis=1, inplace=True)\n",
    "surname = pd.read_csv(path_surname, engine=\"python\", sep=\";\")\n",
    "first_name = pd.concat([boyname, girlname], ignore_index=True)\n",
    "first_name = first_name.dropna()\n",
    "surname = surname.dropna()"
   ]
  },
  {
   "cell_type": "code",
   "execution_count": 3,
   "metadata": {},
   "outputs": [],
   "source": [
    "nlp = SpacyModel()"
   ]
  },
  {
   "cell_type": "code",
   "execution_count": 4,
   "metadata": {},
   "outputs": [
    {
     "name": "stdout",
     "output_type": "stream",
     "text": [
      "Avg score =  0.892\n",
      "128\n"
     ]
    }
   ],
   "source": [
    "n = 1000\n",
    "points = 0\n",
    "halves = 0\n",
    "for i in range(n):\n",
    "    random.seed(i)\n",
    "    #print(random.randint(0,len(first_name)))\n",
    "    fornavn = first_name[\"fornavn\"].iloc[random.randint(0,len(first_name)-1)]\n",
    "    etternavn = surname[\"etternavn\"].iloc[random.randint(0,len(surname))]\n",
    "    name = fornavn + \" \" + etternavn\n",
    "    #print(name)\n",
    "    #nlp.predict(name)\n",
    "    prediction = nlp.replace(name)\n",
    "    if(prediction==name):\n",
    "        continue\n",
    "    elif(prediction==\"<PER>\"):\n",
    "        points+=1.0\n",
    "    else:\n",
    "        #print(\"Halvt poeng\")\n",
    "        halves +=1\n",
    "        points += 0.5\n",
    "\n",
    "print(\"Avg score = \", points/n)\n",
    "print(halves)\n",
    "    \n",
    "    "
   ]
  },
  {
   "cell_type": "code",
   "execution_count": 28,
   "metadata": {},
   "outputs": [],
   "source": [
    "TRAIN_DATA = [\n",
    "    (\"Who is Shaka Khan?\", {\"entities\": [(7, 17, \"PERSON\")]}),\n",
    "    (\"I like London and Berlin.\", {\"entities\": [(7, 13, \"LOC\"), (18, 24, \"LOC\")]}),\n",
    "]\n",
    "\n",
    "TRAIN_DATA2 = [\n",
    "    (\n",
    "        \"Horses are too tall and they pretend to care about your feelings\",\n",
    "        {\"entities\": [(0, 6, \"LABEL\")]},\n",
    "    ),\n",
    "    (\"Do they bite?\", {\"entities\": []}),\n",
    "    (\n",
    "        \"horses are too tall and they pretend to care about your feelings\",\n",
    "        {\"entities\": [(0, 6, \"LABEL\")]},\n",
    "    ),\n",
    "    (\"horses pretend to care about your feelings\", {\"entities\": [(0, 6, \"LABEL\")]}),\n",
    "    (\n",
    "        \"they pretend to care about your feelings, those horses\",\n",
    "        {\"entities\": [(48, 54, \"LABEL\")]},\n",
    "    ),\n",
    "    (\"horses?\", {\"entities\": [(0, 6, \"LABEL\")]}),\n",
    "]"
   ]
  },
  {
   "cell_type": "code",
   "execution_count": 30,
   "metadata": {},
   "outputs": [],
   "source": [
    "a = pd.DataFrame(TRAIN_DATA)\n",
    "a.columns = [\"a\", \"b\"]\n",
    "b = pd.DataFrame(TRAIN_DATA2)\n",
    "b.columns = [\"a\", \"b\"]"
   ]
  },
  {
   "cell_type": "code",
   "execution_count": 45,
   "metadata": {},
   "outputs": [
    {
     "name": "stdout",
     "output_type": "stream",
     "text": [
      "7 [0, 6, 'LABEL']\n"
     ]
    },
    {
     "ename": "IndexError",
     "evalue": "list index out of range",
     "output_type": "error",
     "traceback": [
      "\u001b[0;31m---------------------------------------------------------------------------\u001b[0m",
      "\u001b[0;31mIndexError\u001b[0m                                Traceback (most recent call last)",
      "\u001b[0;32m<ipython-input-45-cf00f447935e>\u001b[0m in \u001b[0;36m<module>\u001b[0;34m\u001b[0m\n\u001b[1;32m      2\u001b[0m \u001b[0;32mfor\u001b[0m \u001b[0men\u001b[0m\u001b[0;34m,\u001b[0m \u001b[0mto\u001b[0m \u001b[0;32min\u001b[0m \u001b[0mzip_longest\u001b[0m\u001b[0;34m(\u001b[0m\u001b[0ma\u001b[0m\u001b[0;34m[\u001b[0m\u001b[0;34m\"b\"\u001b[0m\u001b[0;34m]\u001b[0m\u001b[0;34m,\u001b[0m \u001b[0mb\u001b[0m\u001b[0;34m[\u001b[0m\u001b[0;34m\"b\"\u001b[0m\u001b[0;34m]\u001b[0m\u001b[0;34m)\u001b[0m\u001b[0;34m:\u001b[0m\u001b[0;34m\u001b[0m\u001b[0;34m\u001b[0m\u001b[0m\n\u001b[1;32m      3\u001b[0m     \u001b[0mtre\u001b[0m \u001b[0;34m=\u001b[0m \u001b[0men\u001b[0m\u001b[0;34m[\u001b[0m\u001b[0;34m'entities'\u001b[0m\u001b[0;34m]\u001b[0m\u001b[0;34m[\u001b[0m\u001b[0;36m0\u001b[0m\u001b[0;34m]\u001b[0m\u001b[0;34m[\u001b[0m\u001b[0;36m0\u001b[0m\u001b[0;34m]\u001b[0m\u001b[0;34m\u001b[0m\u001b[0;34m\u001b[0m\u001b[0m\n\u001b[0;32m----> 4\u001b[0;31m     \u001b[0mfire\u001b[0m \u001b[0;34m=\u001b[0m \u001b[0mlist\u001b[0m\u001b[0;34m(\u001b[0m\u001b[0mto\u001b[0m\u001b[0;34m[\u001b[0m\u001b[0;34m'entities'\u001b[0m\u001b[0;34m]\u001b[0m\u001b[0;34m[\u001b[0m\u001b[0;36m0\u001b[0m\u001b[0;34m]\u001b[0m\u001b[0;34m)\u001b[0m\u001b[0;34m\u001b[0m\u001b[0;34m\u001b[0m\u001b[0m\n\u001b[0m\u001b[1;32m      5\u001b[0m     \u001b[0mprint\u001b[0m\u001b[0;34m(\u001b[0m\u001b[0mtre\u001b[0m\u001b[0;34m,\u001b[0m \u001b[0mfire\u001b[0m\u001b[0;34m)\u001b[0m\u001b[0;34m\u001b[0m\u001b[0;34m\u001b[0m\u001b[0m\n",
      "\u001b[0;31mIndexError\u001b[0m: list index out of range"
     ]
    }
   ],
   "source": [
    "from itertools import zip_longest\n",
    "for en, to in zip_longest(a[\"b\"], b[\"b\"]):\n",
    "    tre = en['entities'][0][0]\n",
    "    fire = list(to['entities'][0])\n",
    "    print(tre, fire)\n"
   ]
  },
  {
   "cell_type": "code",
   "execution_count": null,
   "metadata": {},
   "outputs": [],
   "source": []
  }
 ],
 "metadata": {
  "kernelspec": {
   "display_name": "Python 3",
   "language": "python",
   "name": "python3"
  },
  "language_info": {
   "codemirror_mode": {
    "name": "ipython",
    "version": 3
   },
   "file_extension": ".py",
   "mimetype": "text/x-python",
   "name": "python",
   "nbconvert_exporter": "python",
   "pygments_lexer": "ipython3",
   "version": "3.7.7"
  }
 },
 "nbformat": 4,
 "nbformat_minor": 4
}
