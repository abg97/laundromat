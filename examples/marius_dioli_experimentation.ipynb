{
 "cells": [
  {
   "cell_type": "markdown",
   "metadata": {},
   "source": [
    "### Testing custom package"
   ]
  },
  {
   "cell_type": "code",
   "execution_count": 2,
   "metadata": {},
   "outputs": [],
   "source": [
    "from nav_pii_anon.spacy.spacy_model import SpacyModel"
   ]
  },
  {
   "cell_type": "code",
   "execution_count": 3,
   "metadata": {},
   "outputs": [],
   "source": [
    "tx = (\"Mitt navn er Marius og mitt personnummer er 15044216652. \"\n",
    "      \"Telefonnummeret mitt er 94867658 og jeg reiser \"\n",
    "      \"hjem 24.07.2020\")"
   ]
  },
  {
   "cell_type": "code",
   "execution_count": 4,
   "metadata": {},
   "outputs": [],
   "source": [
    "nlp = SpacyModel()"
   ]
  },
  {
   "cell_type": "code",
   "execution_count": 5,
   "metadata": {},
   "outputs": [],
   "source": [
    "graph = nlp.dependency_graph(tx)"
   ]
  },
  {
   "cell_type": "code",
   "execution_count": 6,
   "metadata": {},
   "outputs": [
    {
     "data": {
      "text/plain": [
       "NodeView(('navn', 'mitt', 'marius', 'er', 'personnummer', 'og', '15044216652.', 'telefonnummeret', '94867658', 'reiser', 'jeg', '24.07.2020', 'hjem'))"
      ]
     },
     "execution_count": 6,
     "metadata": {},
     "output_type": "execute_result"
    }
   ],
   "source": [
    "graph.nodes"
   ]
  },
  {
   "cell_type": "code",
   "execution_count": 7,
   "metadata": {},
   "outputs": [
    {
     "data": {
      "text/plain": [
       "EdgeView([('navn', 'mitt'), ('navn', 'marius'), ('mitt', 'personnummer'), ('mitt', 'telefonnummeret'), ('marius', 'er'), ('marius', 'personnummer'), ('er', '15044216652.'), ('er', '94867658'), ('personnummer', 'og'), ('og', 'reiser'), ('15044216652.', 'telefonnummeret'), ('telefonnummeret', '94867658'), ('94867658', 'reiser'), ('reiser', 'jeg'), ('reiser', '24.07.2020'), ('24.07.2020', 'hjem')])"
      ]
     },
     "execution_count": 7,
     "metadata": {},
     "output_type": "execute_result"
    }
   ],
   "source": [
    "graph.edges"
   ]
  },
  {
   "cell_type": "code",
   "execution_count": 4,
   "metadata": {},
   "outputs": [],
   "source": [
    "nlp = SpacyModel(spacy.load(\"nb_core_news_lg\"))\n",
    "reg = SpacyModel(spacy.load(\"nb_core_news_lg\"))"
   ]
  },
  {
   "cell_type": "code",
   "execution_count": 5,
   "metadata": {},
   "outputs": [],
   "source": [
    "tx = \"Mitt navn er Marius og mitt personnummer er 15044216652\""
   ]
  },
  {
   "cell_type": "code",
   "execution_count": 6,
   "metadata": {},
   "outputs": [
    {
     "name": "stdout",
     "output_type": "stream",
     "text": [
      "[['Marius', 'PER', 3, 4, 'NA']]\n"
     ]
    }
   ],
   "source": [
    "nlp.predict(tx)"
   ]
  },
  {
   "cell_type": "code",
   "execution_count": 7,
   "metadata": {},
   "outputs": [],
   "source": [
    "nlp.add_patterns()\n",
    "reg.add_patterns()"
   ]
  },
  {
   "cell_type": "code",
   "execution_count": 8,
   "metadata": {},
   "outputs": [
    {
     "name": "stdout",
     "output_type": "stream",
     "text": [
      "(15044216652,)\n",
      "[['Marius', 'PER', 3, 4, 'NA'], ['15044216652', 'FNR', 8, 9, 'NA']]\n"
     ]
    }
   ],
   "source": [
    "nlp.predict(tx)"
   ]
  },
  {
   "cell_type": "code",
   "execution_count": 9,
   "metadata": {},
   "outputs": [],
   "source": [
    "tx = (\"Mitt navn er Marius og mitt personnummer er 15044216652.\"\n",
    "      \"Telefonnummeret mitt er 94867658 og jeg reiser\"\n",
    "      \"hjem 19.07.2020\")"
   ]
  },
  {
   "cell_type": "code",
   "execution_count": 10,
   "metadata": {},
   "outputs": [
    {
     "name": "stdout",
     "output_type": "stream",
     "text": [
      "(94867658,)\n",
      "(94867658, 19.07.2020)\n",
      "[['Marius', 'PER', 3, 4, 'NA'], ['94867658', 'TLF', 11, 12, 'NA'], ['reiserhjem', 'ORG', 14, 15, 'NA'], ['19.07.2020', 'DTM', 15, 16, 'NA']]\n"
     ]
    }
   ],
   "source": [
    "nlp.predict(tx)"
   ]
  },
  {
   "cell_type": "code",
   "execution_count": null,
   "metadata": {},
   "outputs": [],
   "source": [
    "tx = (\"Mitt navn er Marius og mitt personnummer er 15044216652. \"\n",
    "      \"Telefonnummeret mitt er 94867658 og jeg reiser \"\n",
    "      \"hjem 24.07.2020\")"
   ]
  },
  {
   "cell_type": "code",
   "execution_count": null,
   "metadata": {},
   "outputs": [],
   "source": [
    "nlp.predict(tx)"
   ]
  },
  {
   "cell_type": "code",
   "execution_count": null,
   "metadata": {},
   "outputs": [],
   "source": [
    "reg.disable_NER()"
   ]
  },
  {
   "cell_type": "code",
   "execution_count": null,
   "metadata": {},
   "outputs": [],
   "source": [
    "reg.predict(tx)"
   ]
  },
  {
   "cell_type": "code",
   "execution_count": null,
   "metadata": {},
   "outputs": [],
   "source": [
    "reg.enable_NER()"
   ]
  },
  {
   "cell_type": "code",
   "execution_count": null,
   "metadata": {},
   "outputs": [],
   "source": [
    "reg.predict(tx)"
   ]
  },
  {
   "cell_type": "code",
   "execution_count": null,
   "metadata": {},
   "outputs": [],
   "source": [
    "nlp.display_predictions(tx)"
   ]
  },
  {
   "cell_type": "code",
   "execution_count": null,
   "metadata": {},
   "outputs": [],
   "source": [
    "print(nlp.replace(tx))"
   ]
  },
  {
   "cell_type": "code",
   "execution_count": null,
   "metadata": {},
   "outputs": [],
   "source": []
  }
 ],
 "metadata": {
  "kernelspec": {
   "display_name": "Python 3",
   "language": "python",
   "name": "python3"
  },
  "language_info": {
   "codemirror_mode": {
    "name": "ipython",
    "version": 3
   },
   "file_extension": ".py",
   "mimetype": "text/x-python",
   "name": "python",
   "nbconvert_exporter": "python",
   "pygments_lexer": "ipython3",
   "version": "3.7.7"
  }
 },
 "nbformat": 4,
 "nbformat_minor": 4
}
