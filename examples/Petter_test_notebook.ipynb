{
 "cells": [
  {
   "cell_type": "code",
   "execution_count": 1,
   "metadata": {},
   "outputs": [],
   "source": [
    "import spacy\n",
    "import re\n",
    "from spacy.pipeline import EntityRuler\n",
    "from spacy.matcher import Matcher\n",
    "from spacy.tokens import Span\n",
    "from nav_pii_anon.spacy.spacy_model import SpacyModel\n",
    "from nav_pii_anon.regex_engine import fnr\n",
    "from nav_pii_anon.regex_engine.tlfnr import RegexTlfNr\n",
    "from nav_pii_anon.regex_engine.date_time import RegexDateTime"
   ]
  },
  {
   "cell_type": "markdown",
   "metadata": {},
   "source": [
    "## Using the Entity Ruler object from SpaCy"
   ]
  },
  {
   "cell_type": "code",
   "execution_count": 2,
   "metadata": {},
   "outputs": [
    {
     "data": {
      "text/plain": [
       "str"
      ]
     },
     "execution_count": 2,
     "metadata": {},
     "output_type": "execute_result"
    }
   ],
   "source": [
    "tx=\"Jeg er Robindra Prabhu og mitt fødselsnummer er 15044216652 og tlf er +47 99 11 92 34 . Jeg kommer innom 20062020 for å \\\n",
    "snakke om min 100 prosent stilling 99119234\"\n",
    "type(tx)"
   ]
  },
  {
   "cell_type": "markdown",
   "metadata": {},
   "source": [
    "### Assigning multiple custom entities"
   ]
  },
  {
   "cell_type": "code",
   "execution_count": 3,
   "metadata": {},
   "outputs": [
    {
     "name": "stdout",
     "output_type": "stream",
     "text": [
      "The Levenstein distance from a pnr is 1.0\n"
     ]
    }
   ],
   "source": [
    "dist_checker = fnr.RegexFnr()\n",
    "\n",
    "dist = dist_checker.validate_pnr('170415443149')"
   ]
  },
  {
   "cell_type": "code",
   "execution_count": 4,
   "metadata": {},
   "outputs": [
    {
     "name": "stdout",
     "output_type": "stream",
     "text": [
      "FALSE!\n",
      "(15044216652,)\n",
      "This is span and ent: +47 99 11 92 34 15044216652\n",
      "This is span range and ent rangte 12 17 8 10\n",
      "FALSE!\n",
      "(15044216652, +47 99 11 92 34)\n",
      "This is span and ent: 20062020 15044216652\n",
      "This is span range and ent rangte 21 22 8 10\n",
      "This is span and ent: 20062020 +47 99 11 92 34\n",
      "This is span range and ent rangte 21 22 12 18\n",
      "FALSE!\n",
      "(15044216652, +47 99 11 92 34, 20062020)\n",
      "This is span and ent: 99119234 15044216652\n",
      "This is span range and ent rangte 30 31 8 10\n",
      "This is span and ent: 99119234 +47 99 11 92 34\n",
      "This is span range and ent rangte 30 31 12 18\n",
      "This is span and ent: 99119234 20062020\n",
      "This is span range and ent rangte 30 31 21 23\n",
      "FALSE!\n",
      "(15044216652, +47 99 11 92 34, 20062020, 99119234)\n",
      "This is span and ent: 92 34 15044216652\n",
      "This is span range and ent rangte 15 17 8 10\n",
      "This is span and ent: 92 34 +47 99 11 92 34\n",
      "This is span range and ent rangte 15 17 12 18\n",
      "ent longer than span\n",
      "TRUE!\n",
      "This is span and ent: 20062020 15044216652\n",
      "This is span range and ent rangte 21 22 8 10\n",
      "This is span and ent: 20062020 +47 99 11 92 34\n",
      "This is span range and ent rangte 21 22 12 18\n",
      "This is span and ent: 20062020 20062020\n",
      "This is span range and ent rangte 21 22 21 23\n",
      "span and ent same length\n",
      "TRUE!\n",
      "This is span and ent: 100 prosent 15044216652\n",
      "This is span range and ent rangte 27 29 8 10\n",
      "This is span and ent: 100 prosent +47 99 11 92 34\n",
      "This is span range and ent rangte 27 29 12 18\n",
      "This is span and ent: 100 prosent 20062020\n",
      "This is span range and ent rangte 27 29 21 23\n",
      "This is span and ent: 100 prosent 99119234\n",
      "This is span range and ent rangte 27 29 30 32\n",
      "FALSE!\n",
      "(15044216652, +47 99 11 92 34, 20062020, 100 prosent, 99119234)\n"
     ]
    }
   ],
   "source": [
    "nlp = SpacyModel()\n",
    "nlp.add_patterns()\n",
    "doc = nlp.get_doc(tx)"
   ]
  },
  {
   "cell_type": "code",
   "execution_count": 5,
   "metadata": {},
   "outputs": [
    {
     "data": {
      "text/html": [
       "<span class=\"tex2jax_ignore\"><div class=\"entities\" style=\"line-height: 2.5; direction: ltr\">Jeg er \n",
       "<mark class=\"entity\" style=\"background: #ddd; padding: 0.45em 0.6em; margin: 0 0.25em; line-height: 1; border-radius: 0.35em;\">\n",
       "    Robindra Prabhu\n",
       "    <span style=\"font-size: 0.8em; font-weight: bold; line-height: 1; border-radius: 0.35em; text-transform: uppercase; vertical-align: middle; margin-left: 0.5rem\">PER</span>\n",
       "</mark>\n",
       " og mitt fødselsnummer er \n",
       "<mark class=\"entity\" style=\"background: #ddd; padding: 0.45em 0.6em; margin: 0 0.25em; line-height: 1; border-radius: 0.35em;\">\n",
       "    15044216652\n",
       "    <span style=\"font-size: 0.8em; font-weight: bold; line-height: 1; border-radius: 0.35em; text-transform: uppercase; vertical-align: middle; margin-left: 0.5rem\">FNR</span>\n",
       "</mark>\n",
       " og tlf er \n",
       "<mark class=\"entity\" style=\"background: #ddd; padding: 0.45em 0.6em; margin: 0 0.25em; line-height: 1; border-radius: 0.35em;\">\n",
       "    +47 99 11 92 34\n",
       "    <span style=\"font-size: 0.8em; font-weight: bold; line-height: 1; border-radius: 0.35em; text-transform: uppercase; vertical-align: middle; margin-left: 0.5rem\">TLF</span>\n",
       "</mark>\n",
       " . Jeg kommer innom \n",
       "<mark class=\"entity\" style=\"background: #ddd; padding: 0.45em 0.6em; margin: 0 0.25em; line-height: 1; border-radius: 0.35em;\">\n",
       "    20062020\n",
       "    <span style=\"font-size: 0.8em; font-weight: bold; line-height: 1; border-radius: 0.35em; text-transform: uppercase; vertical-align: middle; margin-left: 0.5rem\">TLF</span>\n",
       "</mark>\n",
       " for å snakke om min \n",
       "<mark class=\"entity\" style=\"background: #ddd; padding: 0.45em 0.6em; margin: 0 0.25em; line-height: 1; border-radius: 0.35em;\">\n",
       "    100 prosent\n",
       "    <span style=\"font-size: 0.8em; font-weight: bold; line-height: 1; border-radius: 0.35em; text-transform: uppercase; vertical-align: middle; margin-left: 0.5rem\">AMOUNT</span>\n",
       "</mark>\n",
       " stilling \n",
       "<mark class=\"entity\" style=\"background: #ddd; padding: 0.45em 0.6em; margin: 0 0.25em; line-height: 1; border-radius: 0.35em;\">\n",
       "    99119234\n",
       "    <span style=\"font-size: 0.8em; font-weight: bold; line-height: 1; border-radius: 0.35em; text-transform: uppercase; vertical-align: middle; margin-left: 0.5rem\">TLF</span>\n",
       "</mark>\n",
       "</div></span>"
      ],
      "text/plain": [
       "<IPython.core.display.HTML object>"
      ]
     },
     "metadata": {},
     "output_type": "display_data"
    }
   ],
   "source": [
    "from spacy import displacy\n",
    "displacy.render(doc, style='ent', jupyter=True)"
   ]
  },
  {
   "cell_type": "code",
   "execution_count": 12,
   "metadata": {},
   "outputs": [],
   "source": [
    "TRAIN_DATA = [\n",
    "    (\n",
    "        \"Horses are too tall and they pretend to care about your feelings\",\n",
    "        {\"entities\": [(0, 6, 'TEST')]},\n",
    "    ),\n",
    "    (\"Do they bite?\", {\"entities\": []}),\n",
    "    (\n",
    "        \"horses are too tall and they pretend to care about your feelings\",\n",
    "        {\"entities\": [(0, 6, 'TEST')]},\n",
    "    ),\n",
    "    (\"horses pretend to care about your feelings\", {\"entities\": [(0, 6, 'TEST')]}),\n",
    "    (\n",
    "        \"they pretend to care about your feelings, those horses\",\n",
    "        {\"entities\": [(48, 54, 'TEST')]},\n",
    "    ),\n",
    "    (\"horses?\", {\"entities\": [(0, 6, 'TEST')]}),\n",
    "]"
   ]
  },
  {
   "cell_type": "code",
   "execution_count": 13,
   "metadata": {},
   "outputs": [
    {
     "name": "stdout",
     "output_type": "stream",
     "text": [
      "Losses {'ner': 38.092529473442596}\n",
      "Losses {'ner': 42.29896858345701}\n",
      "Losses {'ner': 33.389541732679035}\n",
      "Losses {'ner': 26.60371075044279}\n",
      "Losses {'ner': 31.292662627410284}\n",
      "Losses {'ner': 23.46267786227145}\n",
      "Losses {'ner': 29.23545814537306}\n",
      "Losses {'ner': 32.37417520186864}\n",
      "Losses {'ner': 27.620214479269634}\n",
      "Losses {'ner': 37.841530030593276}\n",
      "Losses {'ner': 24.528374724588502}\n",
      "Losses {'ner': 25.9787432988187}\n",
      "Losses {'ner': 28.50931640624185}\n",
      "Losses {'ner': 23.99986146404072}\n",
      "Losses {'ner': 29.030277881613493}\n",
      "Losses {'ner': 26.46267904657381}\n",
      "Losses {'ner': 27.612002362064544}\n",
      "Losses {'ner': 22.35130718194783}\n",
      "Losses {'ner': 19.848646188600746}\n",
      "Losses {'ner': 26.58510199564398}\n",
      "Losses {'ner': 25.63760204387554}\n",
      "Losses {'ner': 27.442810979113155}\n",
      "Losses {'ner': 33.266077519771216}\n",
      "Losses {'ner': 32.47937770384257}\n",
      "Losses {'ner': 21.473935103424992}\n",
      "Losses {'ner': 38.437144448196364}\n",
      "Losses {'ner': 35.29968373859016}\n",
      "Losses {'ner': 21.02178064057036}\n",
      "Losses {'ner': 27.077985267947952}\n",
      "Losses {'ner': 20.912668654505524}\n"
     ]
    }
   ],
   "source": [
    "nlp.train(TRAIN_DATA, \"TEST\")"
   ]
  },
  {
   "cell_type": "code",
   "execution_count": 14,
   "metadata": {},
   "outputs": [],
   "source": [
    "doc = nlp.get_doc('horse')"
   ]
  },
  {
   "cell_type": "code",
   "execution_count": 16,
   "metadata": {},
   "outputs": [
    {
     "data": {
      "text/plain": [
       "'TEST'"
      ]
     },
     "execution_count": 16,
     "metadata": {},
     "output_type": "execute_result"
    }
   ],
   "source": [
    "doc.ents[0].label_"
   ]
  },
  {
   "cell_type": "code",
   "execution_count": null,
   "metadata": {},
   "outputs": [],
   "source": []
  }
 ],
 "metadata": {
  "kernelspec": {
   "display_name": "Python 3",
   "language": "python",
   "name": "python3"
  },
  "language_info": {
   "codemirror_mode": {
    "name": "ipython",
    "version": 3
   },
   "file_extension": ".py",
   "mimetype": "text/x-python",
   "name": "python",
   "nbconvert_exporter": "python",
   "pygments_lexer": "ipython3",
   "version": "3.7.6"
  }
 },
 "nbformat": 4,
 "nbformat_minor": 4
}
