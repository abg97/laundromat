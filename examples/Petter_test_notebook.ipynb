{
 "cells": [
  {
   "cell_type": "code",
   "execution_count": 1,
   "metadata": {},
   "outputs": [],
   "source": [
    "import spacy\n",
    "import re\n",
    "from spacy.pipeline import EntityRuler\n",
    "from spacy.matcher import Matcher\n",
    "from spacy.tokens import Span"
   ]
  },
  {
   "cell_type": "markdown",
   "metadata": {},
   "source": [
    "## Using the Entity Ruler object from SpaCy"
   ]
  },
  {
   "cell_type": "code",
   "execution_count": 2,
   "metadata": {},
   "outputs": [],
   "source": [
    "from spacy.lang.nb import Norwegian\n",
    "from spacy.pipeline import EntityRuler"
   ]
  },
  {
   "cell_type": "code",
   "execution_count": 3,
   "metadata": {},
   "outputs": [],
   "source": [
    "patterns = [{\"label\": \"ORG\", \"pattern\": \"Apple\"},\n",
    "            {\"label\": \"GPE\", \"pattern\": [{\"LOWER\": \"san\"}, {\"LOWER\": \"francisco\"}]}]"
   ]
  },
  {
   "cell_type": "code",
   "execution_count": 4,
   "metadata": {},
   "outputs": [],
   "source": [
    "reg = [{\"label\": \"FNR\", \"pattern\":[{\"TEXT\": {\"REGEX\": r'(\\b\\d{11}\\b)|(\\b\\d{6}\\s\\d{5}\\b)'}}]}]"
   ]
  },
  {
   "cell_type": "code",
   "execution_count": 5,
   "metadata": {},
   "outputs": [],
   "source": [
    "tx=\"Jeg er Robindra og mitt fødselsnummer er 15044216652\""
   ]
  },
  {
   "cell_type": "code",
   "execution_count": 6,
   "metadata": {},
   "outputs": [],
   "source": [
    "nlp = spacy.load(\"nb_core_news_lg\")\n",
    "#nlp = Norwegian() is an empty model\n",
    "ruler = EntityRuler(nlp)\n",
    "ruler.add_patterns(reg)\n",
    "nlp.add_pipe(ruler)\n",
    "from collections import defaultdict"
   ]
  },
  {
   "cell_type": "code",
   "execution_count": 7,
   "metadata": {},
   "outputs": [],
   "source": [
    "#Example text\n",
    "txt = \"Selv om det hører inn under sakprosaen, er det mange forfattere som skriver essayistisk; som altså vil si assosiativt og sirkulært i formen. Mange vil kalle essayet en blandingsgenre; Mia Bull Gundersen skriver for eksempel: «Essayet er en utpreget litterær blandingsform og befinner seg et sted mellom fiksjon og sakprosa» (1). En del tekster kan være essayistiske i formen, selv om de faller inn under andre genrebetegnelser. Dette gjelder både artikler, kronikker, petiter, kåserier og romaner. Essayet er en forholdsvis kort tekst, skrevet i førsteperson entall i en ikke-konkluderende form. Jo Bech-Karlsen (2) sier essayet skal være kunnskapsrikt, men ikke lærd i teoretisk vitenskapelig forstand. Ofte stiller essayet flere spørsmål enn det besvarer, og forfatteren av essayet henvender seg gjerne til sin likemann; en kunnskapsrik og opplyst leser. I motsetning til en artikkel, som er bygget opp med en innledning, drøfting og konklusjon, har essayet verken innledning eller avslutning. Leseren får ikke nødvendigvis svar på de spørsmålene teksten stiller, men skal likevel være klokere enn før han eller hun gikk i gang med lesningen. I likhet med essayet selv, omfatter essayets historie flere tradisjoner og avstikkere. De fleste betrakter Michel de Montaigne som essayets far. Montaigne (1533–1592) var en fransk adelsmann, politiker, filosof og forfatter som hadde stor innflytelse i sin samtid. Som trettiåring trakk han seg tilbake til familiens slott i Bordeaux, for i ensomhet å reflektere og skrive, i sitt tårn, omgitt av sine bøker. Begrepet essay er hentet fra tittelen på hans bøker: Les Essais I–III, som kom ut mellom 1780 og 1788. Det franske begrepet kan oversettes med forsøk, som peker tilbake på essayets åpne, prøvende og ikke-konkluderende form. Selv fortsatte Montaigne å redigere og endre på essayene sine resten av livet. Dette forsterker inntrykket av essayet som uferdig og åpent. Det er ofte store og evige spørsmål som drøftes i essayet, samtidig som ingenting synes å være for smått.\""
   ]
  },
  {
   "cell_type": "code",
   "execution_count": 8,
   "metadata": {},
   "outputs": [
    {
     "name": "stdout",
     "output_type": "stream",
     "text": [
      "[('Mia Bull Gundersen', 'PER', '33', '36'), ('Essayet', 'PER', '41', '42'), ('Essayet', 'PER', '92', '93'), ('Bech-Karlsen', 'ORG', '109', '110'), ('Michel de Montaigne', 'PER', '222', '225'), ('Montaigne', 'PER', '229', '230'), ('Bordeaux', 'LOC', '261', '262'), ('Montaigne', 'PER', '323', '324')]\n"
     ]
    }
   ],
   "source": [
    "doc = nlp(txt)\n",
    "print([(ent.text, ent.label_, str(ent.start), str(ent.end)) for ent in doc.ents])"
   ]
  },
  {
   "cell_type": "code",
   "execution_count": 9,
   "metadata": {},
   "outputs": [
    {
     "name": "stdout",
     "output_type": "stream",
     "text": [
      "1.0 [(33, 36, 'PER'), (41, 42, 'PER'), (92, 93, 'PER'), (109, 110, 'ORG'), (222, 225, 'PER'), (229, 230, 'PER'), (261, 262, 'LOC'), (323, 324, 'PER')]\n",
      "entity_scores defaultdict(<class 'float'>, {(33, 36, 'PER'): 1.0})\n",
      "entity_scores defaultdict(<class 'float'>, {(33, 36, 'PER'): 1.0, (41, 42, 'PER'): 1.0})\n",
      "entity_scores defaultdict(<class 'float'>, {(33, 36, 'PER'): 1.0, (41, 42, 'PER'): 1.0, (92, 93, 'PER'): 1.0})\n",
      "entity_scores defaultdict(<class 'float'>, {(33, 36, 'PER'): 1.0, (41, 42, 'PER'): 1.0, (92, 93, 'PER'): 1.0, (109, 110, 'ORG'): 1.0})\n",
      "entity_scores defaultdict(<class 'float'>, {(33, 36, 'PER'): 1.0, (41, 42, 'PER'): 1.0, (92, 93, 'PER'): 1.0, (109, 110, 'ORG'): 1.0, (222, 225, 'PER'): 1.0})\n",
      "entity_scores defaultdict(<class 'float'>, {(33, 36, 'PER'): 1.0, (41, 42, 'PER'): 1.0, (92, 93, 'PER'): 1.0, (109, 110, 'ORG'): 1.0, (222, 225, 'PER'): 1.0, (229, 230, 'PER'): 1.0})\n",
      "entity_scores defaultdict(<class 'float'>, {(33, 36, 'PER'): 1.0, (41, 42, 'PER'): 1.0, (92, 93, 'PER'): 1.0, (109, 110, 'ORG'): 1.0, (222, 225, 'PER'): 1.0, (229, 230, 'PER'): 1.0, (261, 262, 'LOC'): 1.0})\n",
      "entity_scores defaultdict(<class 'float'>, {(33, 36, 'PER'): 1.0, (41, 42, 'PER'): 1.0, (92, 93, 'PER'): 1.0, (109, 110, 'ORG'): 1.0, (222, 225, 'PER'): 1.0, (229, 230, 'PER'): 1.0, (261, 262, 'LOC'): 1.0, (323, 324, 'PER'): 1.0})\n"
     ]
    }
   ],
   "source": [
    "beams = nlp.entity.beam_parse([doc], beam_width=16, beam_density=0.0001)\n",
    "for score, ents in nlp.entity.moves.get_beam_parses(beams[0]):\n",
    "    print (score, ents)\n",
    "    entity_scores = defaultdict(float)\n",
    "    for start, end, label in ents:\n",
    "        # print (\"here\")\n",
    "        entity_scores[(start, end, label)] += score\n",
    "        print ('entity_scores', entity_scores)\n",
    "\n",
    "for (start, end, label),value in entity_scores.items():\n",
    "        if label == 'LOCATION':\n",
    "            print (start, tokens[start], value)"
   ]
  },
  {
   "cell_type": "markdown",
   "metadata": {},
   "source": [
    "### Assigning multiple custom entities"
   ]
  },
  {
   "cell_type": "code",
   "execution_count": 10,
   "metadata": {},
   "outputs": [],
   "source": [
    "from nav_pii_anon.spacy.spacy_model import SpacyModel\n",
    "from nav_pii_anon.regex_engine import fnr"
   ]
  },
  {
   "cell_type": "code",
   "execution_count": 11,
   "metadata": {},
   "outputs": [
    {
     "name": "stdout",
     "output_type": "stream",
     "text": [
      "[('Robindra', 'PER', '2', '3'), ('15044216652', 'FNR', '7', '8')]\n",
      "1.0 [(2, 3, 'PER'), (7, 8, 'FNR')]\n",
      "entity_scores defaultdict(<class 'float'>, {(2, 3, 'PER'): 1.0})\n",
      "entity_scores defaultdict(<class 'float'>, {(2, 3, 'PER'): 1.0, (7, 8, 'FNR'): 1.0})\n"
     ]
    }
   ],
   "source": [
    "## Using the Entity Ruler object from SpaCy\n",
    "\n",
    "from spacy.lang.nb import Norwegian\n",
    "from spacy.pipeline import EntityRuler\n",
    "\n",
    "patterns = [{\"label\": \"ORG\", \"pattern\": \"Apple\"},\n",
    "            {\"label\": \"GPE\", \"pattern\": [{\"LOWER\": \"san\"}, {\"LOWER\": \"francisco\"}]}]\n",
    "\n",
    "reg = [{\"label\": \"FNR\", \"pattern\":[{\"TEXT\": {\"REGEX\": r'(\\b\\d{11}\\b)|(\\b\\d{6}\\s\\d{5}\\b)'}}]}]\n",
    "\n",
    "tx=\"Jeg er Robindra og mitt fødselsnummer er 15044216652\"\n",
    "\n",
    "nlp = spacy.load(\"nb_core_news_lg\")\n",
    "#nlp = Norwegian() is an empty model\n",
    "ruler = EntityRuler(nlp)\n",
    "ruler.add_patterns(reg)\n",
    "nlp.add_pipe(ruler)\n",
    "from collections import defaultdict\n",
    "\n",
    "#Example text\n",
    "txt = \"Selv om det hører inn under sakprosaen, er det mange forfattere som skriver essayistisk; som altså vil si assosiativt og sirkulært i formen. Mange vil kalle essayet en blandingsgenre; Mia Bull Gundersen skriver for eksempel: «Essayet er en utpreget litterær blandingsform og befinner seg et sted mellom fiksjon og sakprosa» (1). En del tekster kan være essayistiske i formen, selv om de faller inn under andre genrebetegnelser. Dette gjelder både artikler, kronikker, petiter, kåserier og romaner. Essayet er en forholdsvis kort tekst, skrevet i førsteperson entall i en ikke-konkluderende form. Jo Bech-Karlsen (2) sier essayet skal være kunnskapsrikt, men ikke lærd i teoretisk vitenskapelig forstand. Ofte stiller essayet flere spørsmål enn det besvarer, og forfatteren av essayet henvender seg gjerne til sin likemann; en kunnskapsrik og opplyst leser. I motsetning til en artikkel, som er bygget opp med en innledning, drøfting og konklusjon, har essayet verken innledning eller avslutning. Leseren får ikke nødvendigvis svar på de spørsmålene teksten stiller, men skal likevel være klokere enn før han eller hun gikk i gang med lesningen. I likhet med essayet selv, omfatter essayets historie flere tradisjoner og avstikkere. De fleste betrakter Michel de Montaigne som essayets far. Montaigne (1533–1592) var en fransk adelsmann, politiker, filosof og forfatter som hadde stor innflytelse i sin samtid. Som trettiåring trakk han seg tilbake til familiens slott i Bordeaux, for i ensomhet å reflektere og skrive, i sitt tårn, omgitt av sine bøker. Begrepet essay er hentet fra tittelen på hans bøker: Les Essais I–III, som kom ut mellom 1780 og 1788. Det franske begrepet kan oversettes med forsøk, som peker tilbake på essayets åpne, prøvende og ikke-konkluderende form. Selv fortsatte Montaigne å redigere og endre på essayene sine resten av livet. Dette forsterker inntrykket av essayet som uferdig og åpent. Det er ofte store og evige spørsmål som drøftes i essayet, samtidig som ingenting synes å være for smått.\"\n",
    "\n",
    "doc = nlp(tx)\n",
    "print([(ent.text, ent.label_, str(ent.start), str(ent.end)) for ent in doc.ents])\n",
    "\n",
    "beams = nlp.entity.beam_parse([doc], beam_width=16, beam_density=0.0001)\n",
    "for score, ents in nlp.entity.moves.get_beam_parses(beams[0]):\n",
    "    print (score, ents)\n",
    "    entity_scores = defaultdict(float)\n",
    "    for start, end, label in ents:\n",
    "        # print (\"here\")\n",
    "        entity_scores[(start, end, label)] += score\n",
    "        print ('entity_scores', entity_scores)\n",
    "\n",
    "for (start, end, label),value in entity_scores.items():\n",
    "        if label == 'LOCATION':\n",
    "            print (start, tokens[start], value)\n",
    "\n",
    "### Assigning multiple custom entities\n",
    "\n",
    "from nav_pii_anon.spacy.spacy_model import SpacyModel"
   ]
  },
  {
   "cell_type": "code",
   "execution_count": 19,
   "metadata": {},
   "outputs": [
    {
     "name": "stdout",
     "output_type": "stream",
     "text": [
      "The Levenstein distance from a pnr is 1.0\n"
     ]
    }
   ],
   "source": [
    "dist_checker = fnr.RegexFnr()\n",
    "\n",
    "dist = dist_checker.validate_pnr('170415443149')"
   ]
  },
  {
   "cell_type": "code",
   "execution_count": 13,
   "metadata": {},
   "outputs": [
    {
     "data": {
      "text/plain": [
       "'15044216652'"
      ]
     },
     "execution_count": 13,
     "metadata": {},
     "output_type": "execute_result"
    }
   ],
   "source": [
    "str(doc.ents[1])"
   ]
  },
  {
   "cell_type": "code",
   "execution_count": 14,
   "metadata": {},
   "outputs": [],
   "source": [
    "dist"
   ]
  },
  {
   "cell_type": "code",
   "execution_count": 15,
   "metadata": {},
   "outputs": [
    {
     "ename": "TypeError",
     "evalue": "match() missing 1 required positional argument: 'string'",
     "output_type": "error",
     "traceback": [
      "\u001b[0;31m---------------------------------------------------------------------------\u001b[0m",
      "\u001b[0;31mTypeError\u001b[0m                                 Traceback (most recent call last)",
      "\u001b[0;32m<ipython-input-15-b0c930ad37bb>\u001b[0m in \u001b[0;36m<module>\u001b[0;34m\u001b[0m\n\u001b[1;32m      1\u001b[0m \u001b[0;32mimport\u001b[0m \u001b[0mre\u001b[0m\u001b[0;34m\u001b[0m\u001b[0;34m\u001b[0m\u001b[0m\n\u001b[0;32m----> 2\u001b[0;31m \u001b[0mre\u001b[0m\u001b[0;34m.\u001b[0m\u001b[0mmatch\u001b[0m\u001b[0;34m(\u001b[0m\u001b[0;34mr\"(0[1-9]|[12][0-9]|3[01])(0[1-9]|1[012])\"\u001b[0m\u001b[0;34m,\u001b[0m \u001b[0;34m)\u001b[0m\u001b[0;34m\u001b[0m\u001b[0;34m\u001b[0m\u001b[0m\n\u001b[0m",
      "\u001b[0;31mTypeError\u001b[0m: match() missing 1 required positional argument: 'string'"
     ]
    }
   ],
   "source": [
    "import re \n",
    "re.match(r\"(0[1-9]|[12][0-9]|3[01])(0[1-9]|1[012])\", )"
   ]
  }
 ],
 "metadata": {
  "kernelspec": {
   "display_name": "Python 3",
   "language": "python",
   "name": "python3"
  },
  "language_info": {
   "codemirror_mode": {
    "name": "ipython",
    "version": 3
   },
   "file_extension": ".py",
   "mimetype": "text/x-python",
   "name": "python",
   "nbconvert_exporter": "python",
   "pygments_lexer": "ipython3",
   "version": "3.7.6"
  }
 },
 "nbformat": 4,
 "nbformat_minor": 4
}
