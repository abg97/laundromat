{
 "cells": [
  {
   "cell_type": "code",
   "execution_count": 1,
   "metadata": {},
   "outputs": [],
   "source": [
    "import spacy\n",
    "import re\n",
    "from spacy.pipeline import EntityRuler\n",
    "from spacy.matcher import Matcher\n",
    "from spacy.tokens import Span\n",
    "from nav_pii_anon.spacy.spacy_model import SpacyModel\n",
    "from nav_pii_anon.regex_engine import fnr\n",
    "from nav_pii_anon.regex_engine.tlfnr import RegexTlfNr\n",
    "from nav_pii_anon.regex_engine.date_time import RegexDateTime"
   ]
  },
  {
   "cell_type": "markdown",
   "metadata": {},
   "source": [
    "## Using the Entity Ruler object from SpaCy"
   ]
  },
  {
   "cell_type": "code",
   "execution_count": 2,
   "metadata": {},
   "outputs": [
    {
     "data": {
      "text/plain": [
       "str"
      ]
     },
     "execution_count": 2,
     "metadata": {},
     "output_type": "execute_result"
    }
   ],
   "source": [
    "tx=\"Jeg er Robindra Prabhu og mitt fødselsnummer er 15044216652 og tlf er +47 99 11 92 34 . Jeg kommer innom 20062020 for å \\\n",
    "snakke om min 100 prosent stilling 99119234\"\n",
    "type(tx)"
   ]
  },
  {
   "cell_type": "markdown",
   "metadata": {},
   "source": [
    "### Assigning multiple custom entities"
   ]
  },
  {
   "cell_type": "code",
   "execution_count": 3,
   "metadata": {},
   "outputs": [
    {
     "name": "stdout",
     "output_type": "stream",
     "text": [
      "The Levenstein distance from a pnr is 1.0\n"
     ]
    }
   ],
   "source": [
    "dist_checker = fnr.RegexFnr()\n",
    "\n",
    "dist = dist_checker.validate_pnr('170415443149')"
   ]
  },
  {
   "cell_type": "code",
   "execution_count": 4,
   "metadata": {},
   "outputs": [
    {
     "name": "stdout",
     "output_type": "stream",
     "text": [
      "This is the type of doc.ents []\n",
      "FALSE!\n",
      "(15044216652,)\n",
      "This is the type of doc.ents [15044216652]\n",
      "Counter: 1\n",
      "+47 99 11 92 34 15044216652\n",
      "12 17 8 10\n",
      "FALSE!\n",
      "(15044216652, +47 99 11 92 34)\n",
      "This is the type of doc.ents [15044216652, +47 99 11 92 34]\n",
      "Counter: 1\n",
      "20062020 15044216652\n",
      "21 22 8 10\n",
      "Counter: 2\n",
      "20062020 +47 99 11 92 34\n",
      "21 22 12 18\n",
      "FALSE!\n",
      "(15044216652, +47 99 11 92 34, 20062020)\n",
      "This is the type of doc.ents [15044216652, +47 99 11 92 34, 20062020]\n",
      "Counter: 1\n",
      "99119234 15044216652\n",
      "30 31 8 10\n",
      "Counter: 2\n",
      "99119234 +47 99 11 92 34\n",
      "30 31 12 18\n",
      "Counter: 3\n",
      "99119234 20062020\n",
      "30 31 21 23\n",
      "FALSE!\n",
      "(15044216652, +47 99 11 92 34, 20062020, 99119234)\n",
      "This is the type of doc.ents [15044216652, +47 99 11 92 34, 20062020, 99119234]\n",
      "Counter: 1\n",
      "92 34 15044216652\n",
      "15 17 8 10\n",
      "Counter: 2\n",
      "92 34 +47 99 11 92 34\n",
      "15 17 12 18\n",
      "ent longer than span\n",
      "TRUE!\n",
      "This is the type of doc.ents [15044216652, +47 99 11 92 34, 20062020, 99119234]\n",
      "Counter: 1\n",
      "20062020 15044216652\n",
      "21 22 8 10\n",
      "Counter: 2\n",
      "20062020 +47 99 11 92 34\n",
      "21 22 12 18\n",
      "Counter: 3\n",
      "20062020 20062020\n",
      "21 22 21 23\n",
      "span and ent same length\n",
      "TRUE!\n",
      "This is the type of doc.ents [15044216652, +47 99 11 92 34, 20062020, 99119234]\n",
      "Counter: 1\n",
      "100 prosent 15044216652\n",
      "27 29 8 10\n",
      "Counter: 2\n",
      "100 prosent +47 99 11 92 34\n",
      "27 29 12 18\n",
      "Counter: 3\n",
      "100 prosent 20062020\n",
      "27 29 21 23\n",
      "Counter: 4\n",
      "100 prosent 99119234\n",
      "27 29 30 32\n",
      "FALSE!\n",
      "(15044216652, +47 99 11 92 34, 20062020, 100 prosent, 99119234)\n"
     ]
    }
   ],
   "source": [
    "nlp = SpacyModel()\n",
    "nlp.add_patterns()\n",
    "doc = nlp.get_doc(tx)"
   ]
  },
  {
   "cell_type": "code",
   "execution_count": 11,
   "metadata": {},
   "outputs": [
    {
     "name": "stdout",
     "output_type": "stream",
     "text": [
      "This is the type of doc.ents []\n",
      "FALSE!\n",
      "(15044216652,)\n",
      "This is the type of doc.ents [15044216652]\n",
      "Counter: 1\n",
      "+47 99 11 92 34 15044216652\n",
      "12 17 8 10\n",
      "FALSE!\n",
      "(15044216652, +47 99 11 92 34)\n",
      "This is the type of doc.ents [15044216652, +47 99 11 92 34]\n",
      "Counter: 1\n",
      "20062020 15044216652\n",
      "21 22 8 10\n",
      "Counter: 2\n",
      "20062020 +47 99 11 92 34\n",
      "21 22 12 18\n",
      "FALSE!\n",
      "(15044216652, +47 99 11 92 34, 20062020)\n",
      "This is the type of doc.ents [15044216652, +47 99 11 92 34, 20062020]\n",
      "Counter: 1\n",
      "99119234 15044216652\n",
      "30 31 8 10\n",
      "Counter: 2\n",
      "99119234 +47 99 11 92 34\n",
      "30 31 12 18\n",
      "Counter: 3\n",
      "99119234 20062020\n",
      "30 31 21 23\n",
      "FALSE!\n",
      "(15044216652, +47 99 11 92 34, 20062020, 99119234)\n",
      "This is the type of doc.ents [15044216652, +47 99 11 92 34, 20062020, 99119234]\n",
      "Counter: 1\n",
      "92 34 15044216652\n",
      "15 17 8 10\n",
      "Counter: 2\n",
      "92 34 +47 99 11 92 34\n",
      "15 17 12 18\n",
      "ent longer than span\n",
      "TRUE!\n",
      "This is the type of doc.ents [15044216652, +47 99 11 92 34, 20062020, 99119234]\n",
      "Counter: 1\n",
      "20062020 15044216652\n",
      "21 22 8 10\n",
      "Counter: 2\n",
      "20062020 +47 99 11 92 34\n",
      "21 22 12 18\n",
      "Counter: 3\n",
      "20062020 20062020\n",
      "21 22 21 23\n",
      "span and ent same length\n",
      "TRUE!\n",
      "This is the type of doc.ents [15044216652, +47 99 11 92 34, 20062020, 99119234]\n",
      "Counter: 1\n",
      "100 prosent 15044216652\n",
      "27 29 8 10\n",
      "Counter: 2\n",
      "100 prosent +47 99 11 92 34\n",
      "27 29 12 18\n",
      "Counter: 3\n",
      "100 prosent 20062020\n",
      "27 29 21 23\n",
      "Counter: 4\n",
      "100 prosent 99119234\n",
      "27 29 30 32\n",
      "FALSE!\n",
      "(15044216652, +47 99 11 92 34, 20062020, 100 prosent, 99119234)\n"
     ]
    },
    {
     "data": {
      "text/plain": [
       "'Jeg er <PER> og mitt fødselsnummer er <FNR> og tlf er <TLF> . Jeg kommer innom <TLF> for å snakke om min <AMOUNT> stilling <TLF>'"
      ]
     },
     "execution_count": 11,
     "metadata": {},
     "output_type": "execute_result"
    }
   ],
   "source": [
    "nlp.replace(tx)"
   ]
  },
  {
   "cell_type": "code",
   "execution_count": 6,
   "metadata": {},
   "outputs": [
    {
     "data": {
      "text/html": [
       "<span class=\"tex2jax_ignore\"><div class=\"entities\" style=\"line-height: 2.5; direction: ltr\">Jeg er \n",
       "<mark class=\"entity\" style=\"background: #ddd; padding: 0.45em 0.6em; margin: 0 0.25em; line-height: 1; border-radius: 0.35em;\">\n",
       "    Robindra Prabhu\n",
       "    <span style=\"font-size: 0.8em; font-weight: bold; line-height: 1; border-radius: 0.35em; text-transform: uppercase; vertical-align: middle; margin-left: 0.5rem\">PER</span>\n",
       "</mark>\n",
       " og mitt fødselsnummer er \n",
       "<mark class=\"entity\" style=\"background: #ddd; padding: 0.45em 0.6em; margin: 0 0.25em; line-height: 1; border-radius: 0.35em;\">\n",
       "    15044216652\n",
       "    <span style=\"font-size: 0.8em; font-weight: bold; line-height: 1; border-radius: 0.35em; text-transform: uppercase; vertical-align: middle; margin-left: 0.5rem\">FNR</span>\n",
       "</mark>\n",
       " og tlf er \n",
       "<mark class=\"entity\" style=\"background: #ddd; padding: 0.45em 0.6em; margin: 0 0.25em; line-height: 1; border-radius: 0.35em;\">\n",
       "    +47 99 11 92 34\n",
       "    <span style=\"font-size: 0.8em; font-weight: bold; line-height: 1; border-radius: 0.35em; text-transform: uppercase; vertical-align: middle; margin-left: 0.5rem\">TLF</span>\n",
       "</mark>\n",
       " . Jeg kommer innom \n",
       "<mark class=\"entity\" style=\"background: #ddd; padding: 0.45em 0.6em; margin: 0 0.25em; line-height: 1; border-radius: 0.35em;\">\n",
       "    20062020\n",
       "    <span style=\"font-size: 0.8em; font-weight: bold; line-height: 1; border-radius: 0.35em; text-transform: uppercase; vertical-align: middle; margin-left: 0.5rem\">TLF</span>\n",
       "</mark>\n",
       " for å snakke om min \n",
       "<mark class=\"entity\" style=\"background: #ddd; padding: 0.45em 0.6em; margin: 0 0.25em; line-height: 1; border-radius: 0.35em;\">\n",
       "    100 prosent\n",
       "    <span style=\"font-size: 0.8em; font-weight: bold; line-height: 1; border-radius: 0.35em; text-transform: uppercase; vertical-align: middle; margin-left: 0.5rem\">AMOUNT</span>\n",
       "</mark>\n",
       " stilling \n",
       "<mark class=\"entity\" style=\"background: #ddd; padding: 0.45em 0.6em; margin: 0 0.25em; line-height: 1; border-radius: 0.35em;\">\n",
       "    99119234\n",
       "    <span style=\"font-size: 0.8em; font-weight: bold; line-height: 1; border-radius: 0.35em; text-transform: uppercase; vertical-align: middle; margin-left: 0.5rem\">TLF</span>\n",
       "</mark>\n",
       "</div></span>"
      ],
      "text/plain": [
       "<IPython.core.display.HTML object>"
      ]
     },
     "metadata": {},
     "output_type": "display_data"
    }
   ],
   "source": [
    "from spacy import displacy\n",
    "displacy.render(doc, style='ent', jupyter=True)"
   ]
  },
  {
   "cell_type": "code",
   "execution_count": 7,
   "metadata": {},
   "outputs": [
    {
     "name": "stdout",
     "output_type": "stream",
     "text": [
      "99119234\n",
      "gyldig norsk nummer\n"
     ]
    },
    {
     "data": {
      "text/plain": [
       "1.0"
      ]
     },
     "execution_count": 7,
     "metadata": {},
     "output_type": "execute_result"
    }
   ],
   "source": [
    "valid = RegexTlfNr()\n",
    "valid.validate_tlf('+4799119234')"
   ]
  },
  {
   "cell_type": "code",
   "execution_count": 8,
   "metadata": {},
   "outputs": [
    {
     "data": {
      "text/plain": [
       "1.0"
      ]
     },
     "execution_count": 8,
     "metadata": {},
     "output_type": "execute_result"
    }
   ],
   "source": [
    "valid = RegexDateTime()\n",
    "valid.validate_dmt('6996')"
   ]
  },
  {
   "cell_type": "code",
   "execution_count": 9,
   "metadata": {},
   "outputs": [],
   "source": [
    "import re\n",
    "s = re.search(r\"50\\s?(%|prosent)\", 'snakke om min 50 prosent stilling')"
   ]
  },
  {
   "cell_type": "code",
   "execution_count": null,
   "metadata": {},
   "outputs": [],
   "source": []
  },
  {
   "cell_type": "code",
   "execution_count": 10,
   "metadata": {},
   "outputs": [
    {
     "data": {
      "text/plain": [
       "True"
      ]
     },
     "execution_count": 10,
     "metadata": {},
     "output_type": "execute_result"
    }
   ],
   "source": [
    "17 in range(12,18)"
   ]
  },
  {
   "cell_type": "code",
   "execution_count": null,
   "metadata": {},
   "outputs": [],
   "source": []
  }
 ],
 "metadata": {
  "kernelspec": {
   "display_name": "Python 3",
   "language": "python",
   "name": "python3"
  },
  "language_info": {
   "codemirror_mode": {
    "name": "ipython",
    "version": 3
   },
   "file_extension": ".py",
   "mimetype": "text/x-python",
   "name": "python",
   "nbconvert_exporter": "python",
   "pygments_lexer": "ipython3",
   "version": "3.7.7"
  }
 },
 "nbformat": 4,
 "nbformat_minor": 4
}
