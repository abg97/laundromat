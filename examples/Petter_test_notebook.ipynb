{
 "cells": [
  {
   "cell_type": "code",
   "execution_count": 1,
   "metadata": {},
   "outputs": [],
   "source": [
    "import spacy\n",
    "import re\n",
    "from spacy.pipeline import EntityRuler\n",
    "from spacy.matcher import Matcher\n",
    "from spacy.tokens import Span\n",
    "from spacy import displacy\n",
    "from nav_pii_anon.spacy.spacy_model import SpacyModel\n",
    "from nav_pii_anon.regex_engine import fnr\n",
    "from nav_pii_anon.regex_engine.tlfnr import RegexTlfNr\n",
    "from nav_pii_anon.regex_engine.date_time import RegexDateTime"
   ]
  },
  {
   "cell_type": "markdown",
   "metadata": {},
   "source": [
    "## Using the Entity Ruler object from SpaCy"
   ]
  },
  {
   "cell_type": "markdown",
   "metadata": {},
   "source": [
    "### Assigning multiple custom entities"
   ]
  },
  {
   "cell_type": "code",
   "execution_count": 3,
   "metadata": {},
   "outputs": [],
   "source": [
    "TRAIN_DATA = [\n",
    "    (\n",
    "        \"Horses are too tall and they pretend to care about your feelings\",\n",
    "        {\"entities\": [(0, 6, 'TLF')]},\n",
    "    ),\n",
    "    (\"Do they bite?\", {\"entities\": []}),\n",
    "    (\n",
    "        \"horses are too tall and they pretend to care about your feelings\",\n",
    "        {\"entities\": [(0, 6, 'TLF')]},\n",
    "    ),\n",
    "    (\"horses pretend to care about your feelings\", {\"entities\": [(0, 6, 'TLF')]}),\n",
    "    (\n",
    "        \"they pretend to care about your feelings, those horses\",\n",
    "        {\"entities\": [(48, 54, 'TLF')]},\n",
    "    ),\n",
    "    (\"horses?\", {\"entities\": [(0, 6, 'TLF')]}),\n",
    "]"
   ]
  },
  {
   "cell_type": "code",
   "execution_count": 4,
   "metadata": {},
   "outputs": [],
   "source": [
    "nlp = SpacyModel()\n",
    "nlp.add_patterns()\n",
    "\n",
    "#nlp.train(TRAIN_DATA, labels=['TLF'])\n",
    "nlp.disable_ner()"
   ]
  },
  {
   "cell_type": "code",
   "execution_count": 5,
   "metadata": {},
   "outputs": [
    {
     "data": {
      "text/plain": [
       "str"
      ]
     },
     "execution_count": 5,
     "metadata": {},
     "output_type": "execute_result"
    }
   ],
   "source": [
    "tx=\"Jeg er johanne Nymark og mitt fødselsnummer er 15044216652 og tlf er +47 99 11 92 34 . Jeg kommer innom for å \\\n",
    "snakke om min 100 prosent stilling, og bergen. 13.09.1994. 4912 5900 2422 0342\"\n",
    "type(tx)"
   ]
  },
  {
   "cell_type": "code",
   "execution_count": 6,
   "metadata": {},
   "outputs": [
    {
     "name": "stdout",
     "output_type": "stream",
     "text": [
      "[['15044216652', 'FNR', 8, 9, 'NA'], ['+47 99 11 92 34', 'TLF', 12, 17, 'NA'], ['100 prosent', 'AMOUNT', 26, 28, 'NA'], ['4912 5900 2422 0342', 'CREDIT_CARD', 34, 38, 'NA']]\n"
     ]
    }
   ],
   "source": [
    "nlp.predict(tx)"
   ]
  },
  {
   "cell_type": "code",
   "execution_count": 6,
   "metadata": {},
   "outputs": [
    {
     "data": {
      "text/plain": [
       "'lsnu'"
      ]
     },
     "execution_count": 6,
     "metadata": {},
     "output_type": "execute_result"
    }
   ],
   "source": [
    "tx[35:39]"
   ]
  },
  {
   "cell_type": "code",
   "execution_count": 7,
   "metadata": {},
   "outputs": [
    {
     "name": "stdout",
     "output_type": "stream",
     "text": [
      "ner (are,) regex []\n",
      "Correct regex  []\n",
      "No overlap\n",
      "first runthrough [are]\n",
      "[are]\n",
      "ner (Do,) regex []\n",
      "Correct regex  []\n",
      "No overlap\n",
      "first runthrough [Do]\n",
      "[Do]\n",
      "ner (are,) regex []\n",
      "Correct regex  []\n",
      "No overlap\n",
      "first runthrough [are]\n",
      "[are]\n",
      "ner () regex []\n",
      "Correct regex  []\n",
      "[]\n",
      "ner (those horses,) regex []\n",
      "Correct regex  []\n",
      "No overlap\n",
      "first runthrough [those horses]\n",
      "[those horses]\n",
      "ner () regex []\n",
      "Correct regex  []\n",
      "[]\n",
      "ner (are,) regex []\n",
      "Correct regex  []\n",
      "No overlap\n",
      "first runthrough [are]\n",
      "[are]\n",
      "ner (Do,) regex []\n",
      "Correct regex  []\n",
      "No overlap\n",
      "first runthrough [Do]\n",
      "[Do]\n",
      "ner (are,) regex []\n",
      "Correct regex  []\n",
      "No overlap\n",
      "first runthrough [are]\n",
      "[are]\n",
      "ner () regex []\n",
      "Correct regex  []\n",
      "[]\n",
      "ner (those horses,) regex []\n",
      "Correct regex  []\n",
      "No overlap\n",
      "first runthrough [those horses]\n",
      "[those horses]\n",
      "ner () regex []\n",
      "Correct regex  []\n",
      "[]\n"
     ]
    },
    {
     "data": {
      "text/html": [
       "<div>\n",
       "<style scoped>\n",
       "    .dataframe tbody tr th:only-of-type {\n",
       "        vertical-align: middle;\n",
       "    }\n",
       "\n",
       "    .dataframe tbody tr th {\n",
       "        vertical-align: top;\n",
       "    }\n",
       "\n",
       "    .dataframe thead th {\n",
       "        text-align: right;\n",
       "    }\n",
       "</style>\n",
       "<table border=\"1\" class=\"dataframe\">\n",
       "  <thead>\n",
       "    <tr style=\"text-align: right;\">\n",
       "      <th></th>\n",
       "      <th>Is Positive</th>\n",
       "      <th>Is Negative</th>\n",
       "    </tr>\n",
       "  </thead>\n",
       "  <tbody>\n",
       "    <tr>\n",
       "      <th>Predicted Positive</th>\n",
       "      <td>0</td>\n",
       "      <td>4</td>\n",
       "    </tr>\n",
       "    <tr>\n",
       "      <th>Predicted Negative</th>\n",
       "      <td>5</td>\n",
       "      <td>38</td>\n",
       "    </tr>\n",
       "  </tbody>\n",
       "</table>\n",
       "</div>"
      ],
      "text/plain": [
       "                    Is Positive  Is Negative\n",
       "Predicted Positive            0            4\n",
       "Predicted Negative            5           38"
      ]
     },
     "execution_count": 7,
     "metadata": {},
     "output_type": "execute_result"
    }
   ],
   "source": [
    "nlp.confusion_matrix(TRAIN_DATA)"
   ]
  },
  {
   "cell_type": "code",
   "execution_count": 8,
   "metadata": {},
   "outputs": [
    {
     "name": "stdout",
     "output_type": "stream",
     "text": [
      "ner (johanne Nymark, bergen) regex [15044216652, 4912 5900 2422 0342, +47 99 11 92 34, 92 34, 0342, 100 prosent]\n",
      "Correct regex  [15044216652, 4912 5900 2422 0342, +47 99 11 92 34, 100 prosent]\n",
      "No overlap\n",
      "first runthrough [johanne Nymark]\n",
      "No overlap\n",
      "first runthrough [johanne Nymark, bergen]\n",
      "No overlap\n",
      "second runthrough [johanne Nymark, bergen, 15044216652]\n",
      "No overlap\n",
      "second runthrough [johanne Nymark, bergen, 15044216652, 4912 5900 2422 0342]\n",
      "No overlap\n",
      "second runthrough [johanne Nymark, bergen, 15044216652, 4912 5900 2422 0342, +47 99 11 92 34]\n",
      "No overlap\n",
      "second runthrough [johanne Nymark, bergen, 15044216652, 4912 5900 2422 0342, +47 99 11 92 34, 100 prosent]\n",
      "[johanne Nymark, bergen, 15044216652, 4912 5900 2422 0342, +47 99 11 92 34, 100 prosent]\n"
     ]
    },
    {
     "data": {
      "text/html": [
       "<span class=\"tex2jax_ignore\"><div class=\"entities\" style=\"line-height: 2.5; direction: ltr\">Jeg er \n",
       "<mark class=\"entity\" style=\"background: linear-gradient(10deg, #FF3333, #FF9933); padding: 0.45em 0.6em; margin: 0 0.25em; line-height: 1; border-radius: 0.35em;\">\n",
       "    johanne Nymark\n",
       "    <span style=\"font-size: 0.8em; font-weight: bold; line-height: 1; border-radius: 0.35em; text-transform: uppercase; vertical-align: middle; margin-left: 0.5rem\">PER</span>\n",
       "</mark>\n",
       " og mitt fødselsnummer er \n",
       "<mark class=\"entity\" style=\"background: linear-gradient(90deg, #AD0CA3, #AD0C3A); padding: 0.45em 0.6em; margin: 0 0.25em; line-height: 1; border-radius: 0.35em;\">\n",
       "    15044216652\n",
       "    <span style=\"font-size: 0.8em; font-weight: bold; line-height: 1; border-radius: 0.35em; text-transform: uppercase; vertical-align: middle; margin-left: 0.5rem\">FNR</span>\n",
       "</mark>\n",
       " og tlf er \n",
       "<mark class=\"entity\" style=\"background: linear-gradient(10deg, #6BFF33, #F1B141); padding: 0.45em 0.6em; margin: 0 0.25em; line-height: 1; border-radius: 0.35em;\">\n",
       "    +47 99 11 92 34\n",
       "    <span style=\"font-size: 0.8em; font-weight: bold; line-height: 1; border-radius: 0.35em; text-transform: uppercase; vertical-align: middle; margin-left: 0.5rem\">TLF</span>\n",
       "</mark>\n",
       " . Jeg kommer innom for å snakke om min \n",
       "<mark class=\"entity\" style=\"background: linear-gradient(10deg, #aa9cfc, #fc9ce7); padding: 0.45em 0.6em; margin: 0 0.25em; line-height: 1; border-radius: 0.35em;\">\n",
       "    100 prosent\n",
       "    <span style=\"font-size: 0.8em; font-weight: bold; line-height: 1; border-radius: 0.35em; text-transform: uppercase; vertical-align: middle; margin-left: 0.5rem\">AMOUNT</span>\n",
       "</mark>\n",
       " stilling, og \n",
       "<mark class=\"entity\" style=\"background: linear-gradient(10deg, #33FFF6, #33B2FF); padding: 0.45em 0.6em; margin: 0 0.25em; line-height: 1; border-radius: 0.35em;\">\n",
       "    bergen\n",
       "    <span style=\"font-size: 0.8em; font-weight: bold; line-height: 1; border-radius: 0.35em; text-transform: uppercase; vertical-align: middle; margin-left: 0.5rem\">LOC</span>\n",
       "</mark>\n",
       ". 13.09.1994. \n",
       "<mark class=\"entity\" style=\"background: linear-gradient(10deg, #9CF9B3, #F6F99C); padding: 0.45em 0.6em; margin: 0 0.25em; line-height: 1; border-radius: 0.35em;\">\n",
       "    4912 5900 2422 0342\n",
       "    <span style=\"font-size: 0.8em; font-weight: bold; line-height: 1; border-radius: 0.35em; text-transform: uppercase; vertical-align: middle; margin-left: 0.5rem\">CREDIT_CARD</span>\n",
       "</mark>\n",
       "</div></span>"
      ],
      "text/plain": [
       "<IPython.core.display.HTML object>"
      ]
     },
     "metadata": {},
     "output_type": "display_data"
    }
   ],
   "source": [
    "nlp.display_predictions(tx)"
   ]
  }
 ],
 "metadata": {
  "kernelspec": {
   "display_name": "Python 3",
   "language": "python",
   "name": "python3"
  },
  "language_info": {
   "codemirror_mode": {
    "name": "ipython",
    "version": 3
   },
   "file_extension": ".py",
   "mimetype": "text/x-python",
   "name": "python",
   "nbconvert_exporter": "python",
   "pygments_lexer": "ipython3",
   "version": "3.7.7"
  }
 },
 "nbformat": 4,
 "nbformat_minor": 4
}
