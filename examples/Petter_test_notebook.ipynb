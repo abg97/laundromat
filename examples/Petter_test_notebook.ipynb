{
 "cells": [
  {
   "cell_type": "code",
   "execution_count": 1,
   "metadata": {},
   "outputs": [],
   "source": [
    "import spacy\n",
    "import re\n",
    "from spacy.pipeline import EntityRuler\n",
    "from spacy.matcher import Matcher\n",
    "from spacy.tokens import Span\n",
    "from spacy import displacy\n",
    "from nav_pii_anon.spacy.spacy_model import SpacyModel\n",
    "from nav_pii_anon.regex_engine import fnr\n",
    "from nav_pii_anon.regex_engine.tlfnr import RegexTlfNr\n",
    "from nav_pii_anon.regex_engine.date_time import RegexDateTime"
   ]
  },
  {
   "cell_type": "code",
   "execution_count": null,
   "metadata": {},
   "outputs": [],
   "source": []
  },
  {
   "cell_type": "markdown",
   "metadata": {},
   "source": [
    "## Using the Entity Ruler object from SpaCy"
   ]
  },
  {
   "cell_type": "markdown",
   "metadata": {},
   "source": [
    "### Assigning multiple custom entities"
   ]
  },
  {
   "cell_type": "code",
   "execution_count": 2,
   "metadata": {},
   "outputs": [],
   "source": [
    "TRAIN_DATA = [\n",
    "    (\n",
    "        \"Horses are too tall and they pretend to care about your feelings\",\n",
    "        {\"entities\": [(0, 6, 'TLF')]},\n",
    "    ),\n",
    "    (\"Do they bite?\", {\"entities\": []}),\n",
    "    (\n",
    "        \"horses are too tall and they pretend to care about your feelings\",\n",
    "        {\"entities\": [(0, 6, 'TLF')]},\n",
    "    ),\n",
    "    (\"horses pretend to care about your feelings\", {\"entities\": [(0, 6, 'TLF')]}),\n",
    "    (\n",
    "        \"they pretend to care about your feelings, those horses\",\n",
    "        {\"entities\": [(48, 54, 'TLF')]},\n",
    "    ),\n",
    "    (\"horses?\", {\"entities\": [(0, 6, 'TLF')]}),\n",
    "]"
   ]
  },
  {
   "cell_type": "code",
   "execution_count": 3,
   "metadata": {},
   "outputs": [
    {
     "name": "stdout",
     "output_type": "stream",
     "text": [
      "Losses {'ner': 38.61070710649102}\n",
      "Losses {'ner': 39.90150532195162}\n",
      "Losses {'ner': 25.912965754508605}\n",
      "Losses {'ner': 23.637216188744787}\n",
      "Losses {'ner': 23.26038637337243}\n",
      "Losses {'ner': 21.821819498512227}\n",
      "Losses {'ner': 29.575241683223226}\n",
      "Losses {'ner': 24.373716290891934}\n",
      "Losses {'ner': 24.15432362991851}\n",
      "Losses {'ner': 27.68060444520438}\n",
      "Losses {'ner': 29.07689826952992}\n",
      "Losses {'ner': 32.517427542377845}\n",
      "Losses {'ner': 31.259145015204922}\n",
      "Losses {'ner': 23.24475448054727}\n",
      "Losses {'ner': 24.87094614914031}\n",
      "Losses {'ner': 35.70654791879133}\n",
      "Losses {'ner': 36.464301910031395}\n",
      "Losses {'ner': 27.9181335801336}\n",
      "Losses {'ner': 22.165811722536024}\n",
      "Losses {'ner': 29.78614652033002}\n",
      "Losses {'ner': 25.926293219301442}\n",
      "Losses {'ner': 27.116612936923417}\n",
      "Losses {'ner': 31.806336747746833}\n",
      "Losses {'ner': 29.01036713635341}\n",
      "Losses {'ner': 36.45688572670224}\n",
      "Losses {'ner': 25.346644339794924}\n",
      "Losses {'ner': 30.232057554502717}\n",
      "Losses {'ner': 25.22435016835766}\n",
      "Losses {'ner': 24.20711179100765}\n",
      "Losses {'ner': 28.308384982951303}\n"
     ]
    }
   ],
   "source": [
    "nlp = SpacyModel()\n",
    "nlp.add_patterns()\n",
    "\n",
    "nlp.train(TRAIN_DATA, labels=['TLF'])\n",
    "#nlp.disable_ner()"
   ]
  },
  {
   "cell_type": "code",
   "execution_count": 4,
   "metadata": {},
   "outputs": [
    {
     "data": {
      "text/plain": [
       "str"
      ]
     },
     "execution_count": 4,
     "metadata": {},
     "output_type": "execute_result"
    }
   ],
   "source": [
    "tx=\"Jeg er johanne Nymark og mitt fødselsnummer er 15044216652 og tlf er +47 99 11 92 34 . Jeg kommer innom for å \\\n",
    "snakke om min 100 prosent stilling, og bergen. 13.09.1994 .            4912 5900 2422 0342\"\n",
    "type(tx)"
   ]
  },
  {
   "cell_type": "code",
   "execution_count": 5,
   "metadata": {},
   "outputs": [
    {
     "data": {
      "text/html": [
       "<span class=\"tex2jax_ignore\"><div class=\"entities\" style=\"line-height: 2.5; direction: ltr\">Jeg er \n",
       "<mark class=\"entity\" style=\"background: linear-gradient(10deg, #FF3333, #FF9933); padding: 0.45em 0.6em; margin: 0 0.25em; line-height: 1; border-radius: 0.35em;\">\n",
       "    johanne Nymark\n",
       "    <span style=\"font-size: 0.8em; font-weight: bold; line-height: 1; border-radius: 0.35em; text-transform: uppercase; vertical-align: middle; margin-left: 0.5rem\">PER</span>\n",
       "</mark>\n",
       " og mitt fødselsnummer er \n",
       "<mark class=\"entity\" style=\"background: linear-gradient(90deg, #AD0CA3, #AD0C3A); padding: 0.45em 0.6em; margin: 0 0.25em; line-height: 1; border-radius: 0.35em;\">\n",
       "    15044216652\n",
       "    <span style=\"font-size: 0.8em; font-weight: bold; line-height: 1; border-radius: 0.35em; text-transform: uppercase; vertical-align: middle; margin-left: 0.5rem\">FNR</span>\n",
       "</mark>\n",
       " og tlf er \n",
       "<mark class=\"entity\" style=\"background: linear-gradient(10deg, #6BFF33, #F1B141); padding: 0.45em 0.6em; margin: 0 0.25em; line-height: 1; border-radius: 0.35em;\">\n",
       "    +47 99 11 92 34\n",
       "    <span style=\"font-size: 0.8em; font-weight: bold; line-height: 1; border-radius: 0.35em; text-transform: uppercase; vertical-align: middle; margin-left: 0.5rem\">TLF</span>\n",
       "</mark>\n",
       " . Jeg kommer innom for å snakke om min \n",
       "<mark class=\"entity\" style=\"background: linear-gradient(10deg, #aa9cfc, #fc9ce7); padding: 0.45em 0.6em; margin: 0 0.25em; line-height: 1; border-radius: 0.35em;\">\n",
       "    100 prosent\n",
       "    <span style=\"font-size: 0.8em; font-weight: bold; line-height: 1; border-radius: 0.35em; text-transform: uppercase; vertical-align: middle; margin-left: 0.5rem\">AMOUNT</span>\n",
       "</mark>\n",
       " stilling, og \n",
       "<mark class=\"entity\" style=\"background: linear-gradient(10deg, #33FFF6, #33B2FF); padding: 0.45em 0.6em; margin: 0 0.25em; line-height: 1; border-radius: 0.35em;\">\n",
       "    bergen\n",
       "    <span style=\"font-size: 0.8em; font-weight: bold; line-height: 1; border-radius: 0.35em; text-transform: uppercase; vertical-align: middle; margin-left: 0.5rem\">LOC</span>\n",
       "</mark>\n",
       ". \n",
       "<mark class=\"entity\" style=\"background: linear-gradient(10deg, #0A7E2F, #0EAD0C); padding: 0.45em 0.6em; margin: 0 0.25em; line-height: 1; border-radius: 0.35em;\">\n",
       "    13.09.1994\n",
       "    <span style=\"font-size: 0.8em; font-weight: bold; line-height: 1; border-radius: 0.35em; text-transform: uppercase; vertical-align: middle; margin-left: 0.5rem\">DTM</span>\n",
       "</mark>\n",
       " .            \n",
       "<mark class=\"entity\" style=\"background: linear-gradient(10deg, #9CF9B3, #F6F99C); padding: 0.45em 0.6em; margin: 0 0.25em; line-height: 1; border-radius: 0.35em;\">\n",
       "    4912 5900 2422 0342\n",
       "    <span style=\"font-size: 0.8em; font-weight: bold; line-height: 1; border-radius: 0.35em; text-transform: uppercase; vertical-align: middle; margin-left: 0.5rem\">CREDIT_CARD</span>\n",
       "</mark>\n",
       "</div></span>"
      ],
      "text/plain": [
       "<IPython.core.display.HTML object>"
      ]
     },
     "metadata": {},
     "output_type": "display_data"
    }
   ],
   "source": [
    "doc = nlp.get_doc(tx)\n",
    "nlp.display_predictions(tx)"
   ]
  },
  {
   "cell_type": "code",
   "execution_count": 6,
   "metadata": {},
   "outputs": [
    {
     "data": {
      "text/plain": [
       "'Jeg er Henrikke og mitt fødselsnummer er <FNR> og tlf er <TLF> . Jeg kommer innom for å snakke om min <AMOUNT> stilling, og Skytterhusfjellet. <DTM> .            <CREDIT_CARD>'"
      ]
     },
     "execution_count": 6,
     "metadata": {},
     "output_type": "execute_result"
    }
   ],
   "source": [
    "nlp.replace(tx, shuffle=True)"
   ]
  },
  {
   "cell_type": "code",
   "execution_count": 7,
   "metadata": {},
   "outputs": [],
   "source": [
    "from spacy import displacy"
   ]
  },
  {
   "cell_type": "code",
   "execution_count": 8,
   "metadata": {},
   "outputs": [
    {
     "data": {
      "text/html": [
       "<span class=\"tex2jax_ignore\"><div class=\"entities\" style=\"line-height: 2.5; direction: ltr\">Jeg er \n",
       "<mark class=\"entity\" style=\"background: linear-gradient(10deg, #FF3333, #FF9933); padding: 0.45em 0.6em; margin: 0 0.25em; line-height: 1; border-radius: 0.35em;\">\n",
       "    johanne Nymark\n",
       "    <span style=\"font-size: 0.8em; font-weight: bold; line-height: 1; border-radius: 0.35em; text-transform: uppercase; vertical-align: middle; margin-left: 0.5rem\">PER</span>\n",
       "</mark>\n",
       " og mitt fødselsnummer er \n",
       "<mark class=\"entity\" style=\"background: linear-gradient(90deg, #AD0CA3, #AD0C3A); padding: 0.45em 0.6em; margin: 0 0.25em; line-height: 1; border-radius: 0.35em;\">\n",
       "    15044216652\n",
       "    <span style=\"font-size: 0.8em; font-weight: bold; line-height: 1; border-radius: 0.35em; text-transform: uppercase; vertical-align: middle; margin-left: 0.5rem\">FNR</span>\n",
       "</mark>\n",
       " og tlf er \n",
       "<mark class=\"entity\" style=\"background: linear-gradient(10deg, #6BFF33, #F1B141); padding: 0.45em 0.6em; margin: 0 0.25em; line-height: 1; border-radius: 0.35em;\">\n",
       "    +47 99 11 92 34\n",
       "    <span style=\"font-size: 0.8em; font-weight: bold; line-height: 1; border-radius: 0.35em; text-transform: uppercase; vertical-align: middle; margin-left: 0.5rem\">TLF</span>\n",
       "</mark>\n",
       " . Jeg kommer innom for å snakke om min \n",
       "<mark class=\"entity\" style=\"background: linear-gradient(10deg, #aa9cfc, #fc9ce7); padding: 0.45em 0.6em; margin: 0 0.25em; line-height: 1; border-radius: 0.35em;\">\n",
       "    100 prosent\n",
       "    <span style=\"font-size: 0.8em; font-weight: bold; line-height: 1; border-radius: 0.35em; text-transform: uppercase; vertical-align: middle; margin-left: 0.5rem\">AMOUNT</span>\n",
       "</mark>\n",
       " stilling, og \n",
       "<mark class=\"entity\" style=\"background: linear-gradient(10deg, #33FFF6, #33B2FF); padding: 0.45em 0.6em; margin: 0 0.25em; line-height: 1; border-radius: 0.35em;\">\n",
       "    bergen\n",
       "    <span style=\"font-size: 0.8em; font-weight: bold; line-height: 1; border-radius: 0.35em; text-transform: uppercase; vertical-align: middle; margin-left: 0.5rem\">LOC</span>\n",
       "</mark>\n",
       ". \n",
       "<mark class=\"entity\" style=\"background: linear-gradient(10deg, #0A7E2F, #0EAD0C); padding: 0.45em 0.6em; margin: 0 0.25em; line-height: 1; border-radius: 0.35em;\">\n",
       "    13.09.1994\n",
       "    <span style=\"font-size: 0.8em; font-weight: bold; line-height: 1; border-radius: 0.35em; text-transform: uppercase; vertical-align: middle; margin-left: 0.5rem\">DTM</span>\n",
       "</mark>\n",
       " .            \n",
       "<mark class=\"entity\" style=\"background: linear-gradient(10deg, #9CF9B3, #F6F99C); padding: 0.45em 0.6em; margin: 0 0.25em; line-height: 1; border-radius: 0.35em;\">\n",
       "    4912 5900 2422 0342\n",
       "    <span style=\"font-size: 0.8em; font-weight: bold; line-height: 1; border-radius: 0.35em; text-transform: uppercase; vertical-align: middle; margin-left: 0.5rem\">CREDIT_CARD</span>\n",
       "</mark>\n",
       "</div></span>"
      ],
      "text/plain": [
       "<IPython.core.display.HTML object>"
      ]
     },
     "metadata": {},
     "output_type": "display_data"
    }
   ],
   "source": [
    "colors = {\"PER\": \"linear-gradient(10deg, #FF3333, #FF9933)\",\n",
    "          \"FNR\": \"linear-gradient(90deg, #AD0CA3, #AD0C3A)\",\n",
    "          \"TLF\": \"linear-gradient(10deg, #6BFF33, #F1B141)\",\n",
    "          \"AMOUNT\": \"linear-gradient(10deg, #aa9cfc, #fc9ce7)\",\n",
    "          \"LOC\": \"linear-gradient(10deg, #33FFF6, #33B2FF)\",\n",
    "          \"CREDIT_CARD\": \"linear-gradient(10deg, #9CF9B3, #F6F99C)\",\n",
    "          \"DTM\": \"linear-gradient(10deg, #0A7E2F, #0EAD0C)\",\n",
    "         }\n",
    "\n",
    "options = {\"ents\": [\"LOC\", \"PER\", \"FNR\", \"AMOUNT\", \"MEDICAL_CONDITIONS\", \"TLF\", \"DTM\",\"CREDIT_CARD\"],\n",
    "           \"colors\": colors\n",
    "          }\n",
    "displacy.render(doc, style='ent', options=options)"
   ]
  },
  {
   "cell_type": "code",
   "execution_count": null,
   "metadata": {},
   "outputs": [],
   "source": []
  },
  {
   "cell_type": "code",
   "execution_count": null,
   "metadata": {},
   "outputs": [],
   "source": []
  }
 ],
 "metadata": {
  "kernelspec": {
   "display_name": "Python 3",
   "language": "python",
   "name": "python3"
  },
  "language_info": {
   "codemirror_mode": {
    "name": "ipython",
    "version": 3
   },
   "file_extension": ".py",
   "mimetype": "text/x-python",
   "name": "python",
   "nbconvert_exporter": "python",
   "pygments_lexer": "ipython3",
   "version": "3.7.6"
  }
 },
 "nbformat": 4,
 "nbformat_minor": 4
}
